{
 "cells": [
  {
   "cell_type": "code",
   "execution_count": 1,
   "metadata": {},
   "outputs": [],
   "source": [
    "from tandem import  TWCFTA, TWFCTA\n",
    "from simultaneous import T3Clus, TFKMeans, CT3Clus\n",
    "from simultaneous import CT3Clus\n",
    "import numpy as np\n",
    "from utils import PseudoF, OneKMeans\n",
    "from sklearn.datasets import make_blobs\n",
    "from tensor import fold, unfold\n",
    "from sklearn.preprocessing import scale\n",
    "import matplotlib.pyplot as plt\n",
    "from sklearn.metrics import adjusted_rand_score\n",
    "\n",
    "import pandas as pd\n",
    "from tabulate import tabulate\n",
    "\n",
    "import seaborn as sns\n",
    "import array_to_latex as a2l\n",
    "\n",
    "from utils import random_membership_matrix\n",
    "from utils import singular_vectors\n",
    "\n",
    "from sklearn.decomposition import PCA\n",
    "import plotly.express as px"
   ]
  },
  {
   "cell_type": "markdown",
   "metadata": {},
   "source": [
    "**Varimax Rotation**\n"
   ]
  },
  {
   "cell_type": "code",
   "execution_count": 2,
   "metadata": {},
   "outputs": [],
   "source": [
    "def rotate(X, gamma=1, n_max_iter=20, tol=1e-6, method=\"varimax\"):\n",
    "\n",
    "\t\"\"\"\n",
    "    Return rotated components or loading matrix.\n",
    "\n",
    "    Args:\n",
    "        X (ndarray) : (IxJ) component scores matrix.\n",
    "        n_components (int) : number of components to return.\n",
    "        method (str) : method used for the transformation.\n",
    "        tol (float) : tolerance for convergence.\n",
    "        max_iter (int) : maximum number of iteration.\n",
    "\n",
    "    Returns:\n",
    "        ndarray: (IxJ) rotated matrix via the specified method.\n",
    "    \"\"\"\n",
    "\n",
    "\tnrows, ncols = X.shape\n",
    "\trotation_matrix = np.eye(ncols)\n",
    "\tvar0 = 0\n",
    "\t\n",
    "\tfor i in range(n_max_iter):\n",
    "\t\trotated_mat = X @ rotation_matrix\n",
    "\t\tif method == \"varimax\":\n",
    "\t\t\ttmp = (gamma/nrows) * rotated_mat @ np.diag(np.diag(rotated_mat.T @ rotated_mat))\n",
    "\t\telif method == \"quartimax\":\n",
    "\t\t\ttmp = 0\n",
    "\t\tu,s,vh = np.linalg.svd(X.T @ (np.asarray(rotated_mat)**3 - tmp))\n",
    "\t\trotation_matrix = u @ vh\n",
    "\t\tvar_new = sum(s)\n",
    "\t\tif var0 != 0 and var_new < var0 * (1 + tol): break\n",
    "\t\t\n",
    "\t\tvar0 = var_new\n",
    "\n",
    "\treturn X @ rotation_matrix\n",
    "\n",
    "\n",
    "def sort_loadings_matrix(C_k_r):\n",
    "\t\n",
    "\t# constructs a membership function assigning each object/variable/occasion to factor with largest score.\n",
    "\t# varimax approach. Ignoring possibility of object associated with multiple factors.\n",
    "\t# a thought to remove factor with no association (not implemented tho).\n",
    "\n",
    "\trot_comps = rotate(C_k_r)\n",
    "\n",
    "\t#  construct membership function for component scores\n",
    "\tC_k_r_labels = np.argmax(abs(rot_comps), axis=1)  # factor assignment list for objects \n",
    "\tC_k_r_mem = np.zeros(C_k_r.shape)  # initialize membership function matrix for objects\n",
    "\tfor i in range(len(C_k_r_labels)):\n",
    "\t\tp = C_k_r_labels[i]  # choose a random cluster for the i'th object.\n",
    "\t\tC_k_r_mem[i,p] = 1  # assign object i to cluster p\n",
    "\n",
    "\t# sort rows of membership matrix,, grouping objects belonging to same factor.\n",
    "\tC_k_r_ind_lab = {_:C_k_r_labels[_] for _ in range(len(C_k_r_labels))}  # get dict of object to factor assignment\n",
    "\tC_k_r_ind_lab_sorted = dict(sorted(C_k_r_ind_lab.items(), key=lambda item: item[1], reverse=False))  # get sorted index of members\n",
    "\tC_k_r_mem_sorted = C_k_r_mem[list(C_k_r_ind_lab_sorted.keys())]  # sort membership function for occassions \n",
    "\n",
    "\treturn rot_comps, C_k_r_mem, C_k_r_mem_sorted, C_k_r_ind_lab_sorted\n"
   ]
  },
  {
   "cell_type": "markdown",
   "metadata": {},
   "source": [
    "**Synthetic Dataset**"
   ]
  },
  {
   "cell_type": "code",
   "execution_count": 3,
   "metadata": {},
   "outputs": [],
   "source": [
    "I,J,K = 8,5,4\n",
    "# I,J,K = 50,100,5\n",
    "X_i_jk, y = make_blobs(n_samples=I, centers=3, n_features=J*K, random_state=0)\n",
    "\n",
    "G,Q,R = 3,3,2\n",
    "# G,Q,R = I,J,K\n",
    "\n",
    "# Q = int((J-1)/2)\n",
    "# R = int((K-1)/2)\n",
    "# G = 4\n",
    "# # G,Q,R = 4,J,K\n",
    "# G,Q,R\n"
   ]
  },
  {
   "cell_type": "code",
   "execution_count": 4,
   "metadata": {},
   "outputs": [],
   "source": [
    "# 8x3\n",
    "U_i_g_ = np.array([\n",
    "\t[1,0,0],\n",
    "\t[1,0,0],\n",
    "\t[1,0,0],\n",
    "\t[0,1,0],\n",
    "\t[0,1,0],\n",
    "\t[0,0,1],\n",
    "\t[0,0,1],\n",
    "\t[0,0,1]\n",
    "])\n",
    "\n",
    "# 6x3\n",
    "B_j_q_ = np.array([\n",
    "\t[(2**0.5)/2,0,0],\n",
    "\t[(2**0.5)/2,0,0],\n",
    "\t[0,(2**0.5)/2,0],\n",
    "\t[0,(2**0.5)/2,0],\n",
    "\t[0,0,1],\n",
    "])\n",
    "\n",
    "# 4x2\n",
    "C_k_r_ = np.array([\n",
    "\t[(3**0.5)/3,0],\n",
    "\t[(3**0.5)/3,0],\n",
    "\t[(3**0.5)/3,0],\n",
    "\t[0,1]\n",
    "])\n",
    "\n",
    "# 3x6\n",
    "Y_g_qr_ = np.array([\n",
    "\t[(2/3)**0.5,1,-1, 2/3,-2,2**0.5],\n",
    "\t[-(1/3)**0.5,1,2, 1/3,-1,0.5],\n",
    "\t[(2/3)**0.5,-2,1, -2/3,1,2**0.5]\n",
    "])\n",
    "\n",
    "U_labels = np.where(U_i_g_)[1]\n",
    "B_labels = np.where(B_j_q_)[1]\n",
    "C_labels = np.where(C_k_r_)[1]"
   ]
  },
  {
   "cell_type": "code",
   "execution_count": 62,
   "metadata": {},
   "outputs": [],
   "source": [
    "seed = 0\n",
    "np.random.seed(seed)  # initialize numpyy random number generator\n",
    "std = 0.8\n",
    "E = np.random.normal(loc=0, scale=std, size=(I,J*K))\n",
    "Z_i_jk = U_i_g_@Y_g_qr_@np.kron(C_k_r_,B_j_q_).T\n",
    "X_i_jk_ = Z_i_jk + E\n",
    "\n",
    "# convert original data to 3-mode tensor\n",
    "X_i_j_k_ = fold(X_i_jk_, mode=1, shape=(K,I,J))\n",
    "Z_i_j_k_ = fold(Z_i_jk, mode=1, shape=(K,I,J))\n",
    "\n",
    "# data standardization\n",
    "X_i_jk_s = scale(X_i_jk_)\n",
    "\n",
    "# initializing parameters randomly\n",
    "U_i_g0 = random_membership_matrix(I,G,seed=seed)\n",
    "\n",
    "B_j_j = np.random.randn(J,J)\n",
    "B_j_q0 = singular_vectors(B_j_j,Q)\n",
    "\n",
    "C_k_k = np.random.randn(K,K)\n",
    "C_k_r0 = singular_vectors(C_k_k,R)\n",
    "\n",
    "# orthogonality check\n",
    "# B_j_q0.T@B_j_q0\n",
    "# C_k_r0.T@C_k_r0\n",
    "\n",
    "# # initialization to latex\n",
    "# a2l.to_ltx(B_j_q0, frmt = '{:6.2f}', arraytype='bmatrix')\n",
    "# a2l.to_ltx(C_k_r0, frmt = '{:6.2f}', arraytype='bmatrix')"
   ]
  },
  {
   "cell_type": "code",
   "execution_count": 6,
   "metadata": {},
   "outputs": [],
   "source": [
    "# # Plotting synthetic data X\n",
    "# pca = PCA(n_components=2)\n",
    "# fig, axes = plt.subplots(2, K//2, figsize=(10, 10), sharex=True, sharey=True, dpi=100)\n",
    "# # fig.suptitle('Synthetic Data Distribution')\n",
    "\n",
    "# occasions = list(range(1,5))[::-1]\n",
    "# k = 0\n",
    "# for row in range(2):\n",
    "# \tfor col in range(2):\n",
    "# \t\tcomponents = pca.fit_transform(X_i_j_k_[k])  # get each X face\n",
    "# \t\tcomponents = pd.DataFrame(components, columns=['Component 1', 'Component 2'])\n",
    "# \t\t# components['cluster'] = U_labels\n",
    "# \t\tcomponents['cluster'] = np.where(U_i_g_cf)[1]\n",
    "# \t\tsns.scatterplot(ax=axes[row, col], data=components, x='Component 1', y='Component 2', hue=\"cluster\", style=\"cluster\", palette=\"deep\", s=160)\n",
    "# \t\taxes[row, col].set_title(f'Occasion (K={k+1})')\n",
    "\n",
    "# \t\tcents = pca.fit_transform(Z_i_j_k_[col])  # get each X face\n",
    "# \t\tcents = pd.DataFrame(cents, columns=['Component 1', 'Component 2'])\n",
    "# \t\t# cents['cluster'] = U_labels\n",
    "# \t\tsns.scatterplot(ax=axes[row, col], data=cents, x='Component 1', y='Component 2', ec='red', hue=range(8), palette=[0 for _ in range(8)], legend=False, s=100)\n",
    "\t\t\n",
    "# \t\t# cents = pca.fit_transform(X_g_j_k_cf[col])  # get each X face\n",
    "# \t\t# cents = pd.DataFrame(cents, columns=['Component 1', 'Component 2'])\n",
    "# \t\t# sns.scatterplot(ax=axes[row, col], data=cents, x='Component 1', y='Component 2', ec='red', hue=range(3), palette=[0 for _ in range(3)], legend=False, s=100)\n",
    "\n",
    "# \t\tk += 1\n",
    "\n",
    "# plt.savefig('synthetic_data_distribution_Xijk.png')\n",
    "# # plt.savefig('synthetic_data_distribution_fc_km.png')\n"
   ]
  },
  {
   "cell_type": "code",
   "execution_count": 7,
   "metadata": {},
   "outputs": [],
   "source": [
    "# Scaling the Dataset\n",
    "# X_i_jk_scaled = scale(X_i_jk)\n",
    "X_i_jk_scaled = X_i_jk_s\n",
    "\n",
    "# Q = int((J-1)/2)\n",
    "# R = int((K-1)/2)\n",
    "# G = 4\n",
    "\n",
    "# G,Q,R = 2,6,K\n",
    "# (I,J,K),(G,Q,R)"
   ]
  },
  {
   "cell_type": "markdown",
   "metadata": {},
   "source": [
    "**Random Init**"
   ]
  },
  {
   "cell_type": "code",
   "execution_count": 8,
   "metadata": {},
   "outputs": [],
   "source": [
    "# # PLOTTING THE COMPONENTS\n",
    "\n",
    "# Xs = []\n",
    "# Us = []\n",
    "# Yis = []\n",
    "# Ygs = []\n",
    "\n",
    "# ct0 = CT3Clus(\n",
    "# \tverbose=True, init='random', n_loops=5000, n_max_iter=100, tol=5e-3\n",
    "# \t).fit(X_i_jk=X_i_jk_scaled, full_tensor_shape=(I,J,K), reduced_tensor_shape=(G,Q,R), alpha=0)\n",
    "# X_i_jk_n = ct0.X_i_jk_scaled\n",
    "# Y_i_qr = X_i_jk_n@np.kron(ct0.C_k_r, ct0.B_j_q)\n",
    "# Us.append(ct0.U_i_g)\n",
    "# Ygs.append(fold(ct0.Y_g_qr, mode=1, shape=(R,G,Q)))\n",
    "# Yis.append(fold(Y_i_qr, mode=1, shape=(R,I,Q)))\n",
    "\n",
    "# ct025 = CT3Clus(\n",
    "# \tverbose=True, init='random', n_loops=5000, n_max_iter=100, tol=5e-3\n",
    "# \t).fit(X_i_jk=X_i_jk_scaled, full_tensor_shape=(I,J,K), reduced_tensor_shape=(G,Q,R), alpha=0.25)\n",
    "# X_i_jk_n = ct025.X_i_jk_scaled\n",
    "# Y_i_qr = X_i_jk_n@np.kron(ct025.C_k_r, ct025.B_j_q)\n",
    "# Us.append(ct025.U_i_g)\n",
    "# Ygs.append(fold(ct025.Y_g_qr, mode=1, shape=(R,G,Q)))\n",
    "# Yis.append(fold(Y_i_qr, mode=1, shape=(R,I,Q)))\n",
    "\n",
    "# ct05 = CT3Clus(\n",
    "# \tverbose=True, init='random', n_loops=5000, n_max_iter=100, tol=5e-3\n",
    "# \t).fit(X_i_jk=X_i_jk_scaled, full_tensor_shape=(I,J,K), reduced_tensor_shape=(G,Q,R), alpha=0.5)\n",
    "# X_i_jk_n = ct05.X_i_jk_scaled\n",
    "# Y_i_qr = X_i_jk_n@np.kron(ct05.C_k_r, ct05.B_j_q)\n",
    "# Us.append(ct05.U_i_g)\n",
    "# Ygs.append(fold(ct05.Y_g_qr, mode=1, shape=(R,G,Q)))\n",
    "# Yis.append(fold(Y_i_qr, mode=1, shape=(R,I,Q)))\n",
    "\n",
    "# ct075 = CT3Clus(\n",
    "# \tverbose=True, init='random', n_loops=5000, n_max_iter=100, tol=5e-3\n",
    "# \t).fit(X_i_jk=X_i_jk_scaled, full_tensor_shape=(I,J,K), reduced_tensor_shape=(G,Q,R), alpha=0.75)\n",
    "# X_i_jk_n = ct075.X_i_jk_scaled\n",
    "# Y_i_qr = X_i_jk_n@np.kron(ct075.C_k_r, ct075.B_j_q)\n",
    "# Us.append(ct075.U_i_g)\n",
    "# Ygs.append(fold(ct075.Y_g_qr, mode=1, shape=(R,G,Q)))\n",
    "# Yis.append(fold(Y_i_qr, mode=1, shape=(R,I,Q)))\n",
    "\n",
    "# ct1 = CT3Clus(\n",
    "# \tverbose=True, init='random', n_loops=5000, n_max_iter=100, tol=5e-3\n",
    "# \t).fit(X_i_jk=X_i_jk_scaled, full_tensor_shape=(I,J,K), reduced_tensor_shape=(G,Q,R), alpha=1)\n",
    "# X_i_jk_n = ct1.X_i_jk_scaled\n",
    "# Y_i_qr = X_i_jk_n@np.kron(ct1.C_k_r, ct1.B_j_q)\n",
    "# Us.append(ct1.U_i_g)\n",
    "# Ygs.append(fold(ct1.Y_g_qr, mode=1, shape=(R,G,Q)))\n",
    "# Yis.append(fold(Y_i_qr, mode=1, shape=(R,I,Q)))\n"
   ]
  },
  {
   "cell_type": "code",
   "execution_count": 9,
   "metadata": {},
   "outputs": [],
   "source": [
    "\n",
    "# plt.rcParams['axes.labelsize'] = 15\n",
    "# plt.rcParams['axes.titlesize'] = 15\n",
    "\n",
    "# pca = PCA(n_components=2)\n",
    "# fig, axes = plt.subplots(5, R, figsize=(15, 30), sharex=False, sharey=False, dpi=100)\n",
    "# # fig.suptitle('Pokemon Stats by Generation')\n",
    "\n",
    "# fig.subplots_adjust(hspace=0.3, wspace=0.3)\n",
    "\n",
    "# titles = ['a=0','a=0.25','a=0.5','a=0.75','a=1']\n",
    "\n",
    "# # \n",
    "# for clustering in range(5):\n",
    "# \t# loop through each occasion factor\n",
    "# \tfor r in range(R):\n",
    "# \t\t# extract first 2 components\n",
    "# \t\tcomponents = pca.fit_transform(Yis[clustering][r])  # get each X face\n",
    "# \t\tcomponents = pd.DataFrame(components, columns=['Component 1', 'Component 2'])\n",
    "# \t\tcomponents['cluster']=np.where(Us[clustering])[1]\n",
    "\n",
    "# \t\t# plot components in subplot\n",
    "# \t\tsns.scatterplot(ax=axes[clustering, r], data=components, x='Component 1', y='Component 2', hue=\"cluster\", style=\"cluster\", palette=\"deep\", s=120)\n",
    "# \t\taxes[clustering, r].set_title(f'{titles[clustering]} Occasion Factor (R={r+1})', pad=10)\n",
    "\n",
    "# \t\t# plotting centroids\n",
    "# \t\t# if clustering > 0:\n",
    "# \t\tcents = pca.fit_transform(Ygs[clustering][r])\n",
    "# \t\tcents = pd.DataFrame(cents, columns=['Component 1', 'Component 2'])\n",
    "# \t\tsns.scatterplot(ax=axes[clustering, r], data=cents, x='Component 1', y='Component 2', ec='red', hue=range(3), palette=[0,0,0], legend=False, s=100)\n",
    "\n",
    "# \t\tplt.savefig('synthetic_Yiqr_ct3Clus_random.png')"
   ]
  },
  {
   "cell_type": "code",
   "execution_count": 10,
   "metadata": {},
   "outputs": [],
   "source": [
    "# # tss,bss,pseudof\n",
    "# print('ct0',np.array([ct0.TSS,ct0.BSS/ct0.TSS*100,ct0.PseudoF]).round(2))\n",
    "# print('ct025',np.array([ct025.TSS,ct025.BSS/ct025.TSS*100,ct025.PseudoF]).round(2))\n",
    "# print('ct05',np.array([ct05.TSS,ct05.BSS/ct05.TSS*100,ct05.PseudoF]).round(2))\n",
    "# print('ct075',np.array([ct075.TSS,ct075.BSS/ct075.TSS*100,ct075.PseudoF]).round(2))\n",
    "# print('ct1',np.array([ct1.TSS,ct1.BSS/ct1.TSS*100,ct1.PseudoF]).round(2))"
   ]
  },
  {
   "cell_type": "markdown",
   "metadata": {},
   "source": [
    "*Varimax*"
   ]
  },
  {
   "cell_type": "code",
   "execution_count": 11,
   "metadata": {},
   "outputs": [],
   "source": [
    "# # rotation and sorting of factor matrix\n",
    "# rotated_C_ct0, C_k_r_mem_ct0, C_k_r_mem_sorted_ct0, C_k_r_ind_lab_sorted_ct0 = sort_loadings_matrix(ct0.C_k_r)\n",
    "# df_C = pd.DataFrame(C_k_r_mem_sorted_ct0, index=[_+1 for _ in C_k_r_ind_lab_sorted_ct0.keys()], columns=range(1,R+1), dtype=int) #construct df of results\n",
    "\n",
    "# rotated_B_ct0, B_j_q_mem_ct0, B_j_q_mem_sorted_ct0, B_j_q_ind_lab_sorted_ct0 = sort_loadings_matrix(ct0.B_j_q)\n",
    "# df_B = pd.DataFrame(B_j_q_mem_sorted_ct0, index=[_+1 for _ in B_j_q_ind_lab_sorted_ct0.keys()], columns=range(1,Q+1), dtype=int) #construct df of results\n",
    "\n",
    "\n",
    "# # rotation and sorting of factor matrix\n",
    "# rotated_C_ct025, C_k_r_mem_ct025, C_k_r_mem_sorted_ct025, C_k_r_ind_lab_sorted_ct025 = sort_loadings_matrix(ct025.C_k_r)\n",
    "# df_C = pd.DataFrame(C_k_r_mem_sorted_ct025, index=[_+1 for _ in C_k_r_ind_lab_sorted_ct025.keys()], columns=range(1,R+1), dtype=int) #construct df of results\n",
    "\n",
    "# rotated_B_ct025, B_j_q_mem_ct025, B_j_q_mem_sorted_ct025, B_j_q_ind_lab_sorted_ct025 = sort_loadings_matrix(ct025.B_j_q)\n",
    "# df_B = pd.DataFrame(B_j_q_mem_sorted_ct025, index=[_+1 for _ in B_j_q_ind_lab_sorted_ct025.keys()], columns=range(1,Q+1), dtype=int) #construct df of results\n",
    "\n",
    "\n",
    "# # rotation and sorting of factor matrix\n",
    "# rotated_C_ct05, C_k_r_mem_ct05, C_k_r_mem_sorted_ct05, C_k_r_ind_lab_sorted_ct05 = sort_loadings_matrix(ct05.C_k_r)\n",
    "# df_C = pd.DataFrame(C_k_r_mem_sorted_ct05, index=[_+1 for _ in C_k_r_ind_lab_sorted_ct05.keys()], columns=range(1,R+1), dtype=int) #construct df of results\n",
    "\n",
    "# rotated_B_ct05, B_j_q_mem_ct05, B_j_q_mem_sorted_ct05, B_j_q_ind_lab_sorted_ct05 = sort_loadings_matrix(ct05.B_j_q)\n",
    "# df_B = pd.DataFrame(B_j_q_mem_sorted_ct05, index=[_+1 for _ in B_j_q_ind_lab_sorted_ct05.keys()], columns=range(1,Q+1), dtype=int) #construct df of results\n",
    "\n",
    "\n",
    "# # rotation and sorting of factor matrix\n",
    "# rotated_C_ct075, C_k_r_mem_ct075, C_k_r_mem_sorted_ct075, C_k_r_ind_lab_sorted_ct075 = sort_loadings_matrix(ct075.C_k_r)\n",
    "# df_C = pd.DataFrame(C_k_r_mem_sorted_ct075, index=[_+1 for _ in C_k_r_ind_lab_sorted_ct075.keys()], columns=range(1,R+1), dtype=int) #construct df of results\n",
    "\n",
    "# rotated_B_ct075, B_j_q_mem_ct075, B_j_q_mem_sorted_ct075, B_j_q_ind_lab_sorted_ct075 = sort_loadings_matrix(ct075.B_j_q)\n",
    "# df_B = pd.DataFrame(B_j_q_mem_sorted_ct075, index=[_+1 for _ in B_j_q_ind_lab_sorted_ct075.keys()], columns=range(1,Q+1), dtype=int) #construct df of results\n",
    "\n",
    "\n",
    "# # rotation and sorting of factor matrix\n",
    "# rotated_C_ct1, C_k_r_mem_ct1, C_k_r_mem_sorted_ct1, C_k_r_ind_lab_sorted_ct1 = sort_loadings_matrix(ct1.C_k_r)\n",
    "# df_C = pd.DataFrame(C_k_r_mem_sorted_ct1, index=[_+1 for _ in C_k_r_ind_lab_sorted_ct1.keys()], columns=range(1,R+1), dtype=int) #construct df of results\n",
    "\n",
    "# rotated_B_ct1, B_j_q_mem_ct1, B_j_q_mem_sorted_ct1, B_j_q_ind_lab_sorted_ct1 = sort_loadings_matrix(ct1.B_j_q)\n",
    "# df_B = pd.DataFrame(B_j_q_mem_sorted_ct1, index=[_+1 for _ in B_j_q_ind_lab_sorted_ct1.keys()], columns=range(1,Q+1), dtype=int) #construct df of results\n",
    "\n",
    "\n",
    "# # to latex rotated matrices\n",
    "# # a2l.to_ltx(rotated_B_cf, frmt = '{:6.2f}', arraytype='bmatrix')\n",
    "# # a2l.to_ltx(rotated_C_cf, frmt = '{:6.2f}', arraytype='bmatrix')\n"
   ]
  },
  {
   "cell_type": "markdown",
   "metadata": {},
   "source": [
    "*metrics*"
   ]
  },
  {
   "cell_type": "code",
   "execution_count": 12,
   "metadata": {},
   "outputs": [],
   "source": [
    "# # Rand and Pseudo F metrics\n",
    "# U_rand_ct0 = adjusted_rand_score(np.where(ct0.U_i_g)[1], U_labels)\n",
    "# B_rand_ct0 = adjusted_rand_score(np.where(B_j_q_mem_ct0)[1], B_labels)\n",
    "# C_rand_ct0 = adjusted_rand_score(np.where(C_k_r_mem_ct0)[1], C_labels)\n",
    "\n",
    "# U_rand_ct025 = adjusted_rand_score(np.where(ct025.U_i_g)[1], U_labels)\n",
    "# B_rand_ct025 = adjusted_rand_score(np.where(B_j_q_mem_ct025)[1], B_labels)\n",
    "# C_rand_ct025 = adjusted_rand_score(np.where(C_k_r_mem_ct025)[1], C_labels)\n",
    "\n",
    "\n",
    "# U_rand_ct05 = adjusted_rand_score(np.where(ct05.U_i_g)[1], U_labels)\n",
    "# B_rand_ct05 = adjusted_rand_score(np.where(B_j_q_mem_ct05)[1], B_labels)\n",
    "# C_rand_ct05 = adjusted_rand_score(np.where(C_k_r_mem_ct05)[1], C_labels)\n",
    "\n",
    "\n",
    "# U_rand_ct075 = adjusted_rand_score(np.where(ct075.U_i_g)[1], U_labels)\n",
    "# B_rand_ct075 = adjusted_rand_score(np.where(B_j_q_mem_ct075)[1], B_labels)\n",
    "# C_rand_ct075 = adjusted_rand_score(np.where(C_k_r_mem_ct075)[1], C_labels)\n",
    "\n",
    "\n",
    "# U_rand_ct1 = adjusted_rand_score(np.where(ct1.U_i_g)[1], U_labels)\n",
    "# B_rand_ct1 = adjusted_rand_score(np.where(B_j_q_mem_ct1)[1], B_labels)\n",
    "# C_rand_ct1 = adjusted_rand_score(np.where(C_k_r_mem_ct1)[1], C_labels)\n",
    "\n",
    "\n",
    "# # F0,F,BSS%, PF, Urand, Brand\n",
    "# print('CT0:', np.array([ct0.Fs[0],ct0.Fs[1],U_rand_ct0, B_rand_ct0, C_rand_ct0]).round(3))\n",
    "# print('CT025:', np.array([ct025.Fs[0],ct025.Fs[1],U_rand_ct025, B_rand_ct025, C_rand_ct025]).round(3))\n",
    "# print('CT05:', np.array([ct05.Fs[0],ct05.Fs[1],U_rand_ct05, B_rand_ct05, C_rand_ct05]).round(3))\n",
    "# print('CT075:', np.array([ct075.Fs[0],ct075.Fs[1],U_rand_ct075, B_rand_ct075, C_rand_ct075]).round(3))\n",
    "# print('CT1:', np.array([ct1.Fs[0],ct1.Fs[1],U_rand_ct1, B_rand_ct1, C_rand_ct1]).round(3))\n"
   ]
  },
  {
   "cell_type": "markdown",
   "metadata": {},
   "source": [
    "**TWCFTA Initialization**"
   ]
  },
  {
   "cell_type": "code",
   "execution_count": 13,
   "metadata": {},
   "outputs": [],
   "source": [
    "# # PLOTTING THE COMPONENTS\n",
    "\n",
    "# Xs = []\n",
    "# Us = []\n",
    "# Yis = []\n",
    "# Ygs = []\n",
    "\n",
    "# ct0 = CT3Clus(\n",
    "# \tverbose=True, init='twcfta', n_loops=5000, n_max_iter=100, tol=5e-3\n",
    "# \t).fit(X_i_jk=X_i_jk_scaled, full_tensor_shape=(I,J,K), reduced_tensor_shape=(G,Q,R), alpha=0)\n",
    "# X_i_jk_n = ct0.X_i_jk_scaled\n",
    "# Y_i_qr = X_i_jk_n@np.kron(ct0.C_k_r, ct0.B_j_q)\n",
    "# Us.append(ct0.U_i_g)\n",
    "# Ygs.append(fold(ct0.Y_g_qr, mode=1, shape=(R,G,Q)))\n",
    "# Yis.append(fold(Y_i_qr, mode=1, shape=(R,I,Q)))\n",
    "\n",
    "# ct025 = CT3Clus(\n",
    "# \tverbose=True, init='twcfta', n_loops=5000, n_max_iter=100, tol=5e-3\n",
    "# \t).fit(X_i_jk=X_i_jk_scaled, full_tensor_shape=(I,J,K), reduced_tensor_shape=(G,Q,R), alpha=0.25)\n",
    "# X_i_jk_n = ct025.X_i_jk_scaled\n",
    "# Y_i_qr = X_i_jk_n@np.kron(ct025.C_k_r, ct025.B_j_q)\n",
    "# Us.append(ct025.U_i_g)\n",
    "# Ygs.append(fold(ct025.Y_g_qr, mode=1, shape=(R,G,Q)))\n",
    "# Yis.append(fold(Y_i_qr, mode=1, shape=(R,I,Q)))\n",
    "\n",
    "# ct05 = CT3Clus(\n",
    "# \tverbose=True, init='twcfta', n_loops=5000, n_max_iter=100, tol=5e-3\n",
    "# \t).fit(X_i_jk=X_i_jk_scaled, full_tensor_shape=(I,J,K), reduced_tensor_shape=(G,Q,R), alpha=0.5)\n",
    "# X_i_jk_n = ct05.X_i_jk_scaled\n",
    "# Y_i_qr = X_i_jk_n@np.kron(ct05.C_k_r, ct05.B_j_q)\n",
    "# Us.append(ct05.U_i_g)\n",
    "# Ygs.append(fold(ct05.Y_g_qr, mode=1, shape=(R,G,Q)))\n",
    "# Yis.append(fold(Y_i_qr, mode=1, shape=(R,I,Q)))\n",
    "\n",
    "# ct075 = CT3Clus(\n",
    "# \tverbose=True, init='twcfta', n_loops=5000, n_max_iter=100, tol=5e-3\n",
    "# \t).fit(X_i_jk=X_i_jk_scaled, full_tensor_shape=(I,J,K), reduced_tensor_shape=(G,Q,R), alpha=0.75)\n",
    "# X_i_jk_n = ct075.X_i_jk_scaled\n",
    "# Y_i_qr = X_i_jk_n@np.kron(ct075.C_k_r, ct075.B_j_q)\n",
    "# Us.append(ct075.U_i_g)\n",
    "# Ygs.append(fold(ct075.Y_g_qr, mode=1, shape=(R,G,Q)))\n",
    "# Yis.append(fold(Y_i_qr, mode=1, shape=(R,I,Q)))\n",
    "\n",
    "# ct1 = CT3Clus(\n",
    "# \tverbose=True, init='twcfta', n_loops=5000, n_max_iter=100, tol=5e-3\n",
    "# \t).fit(X_i_jk=X_i_jk_scaled, full_tensor_shape=(I,J,K), reduced_tensor_shape=(G,Q,R), alpha=1)\n",
    "# X_i_jk_n = ct1.X_i_jk_scaled\n",
    "# Y_i_qr = X_i_jk_n@np.kron(ct1.C_k_r, ct1.B_j_q)\n",
    "# Us.append(ct1.U_i_g)\n",
    "# Ygs.append(fold(ct1.Y_g_qr, mode=1, shape=(R,G,Q)))\n",
    "# Yis.append(fold(Y_i_qr, mode=1, shape=(R,I,Q)))\n"
   ]
  },
  {
   "cell_type": "code",
   "execution_count": 14,
   "metadata": {},
   "outputs": [],
   "source": [
    "\n",
    "# plt.rcParams['axes.labelsize'] = 15\n",
    "# plt.rcParams['axes.titlesize'] = 15\n",
    "\n",
    "# pca = PCA(n_components=2)\n",
    "# fig, axes = plt.subplots(5, R, figsize=(15, 30), sharex=False, sharey=False, dpi=100)\n",
    "# # fig.suptitle('Pokemon Stats by Generation')\n",
    "\n",
    "# fig.subplots_adjust(hspace=0.3, wspace=0.3)\n",
    "\n",
    "# titles = ['a=0','a=0.25','a=0.5','a=0.75','a=1']\n",
    "\n",
    "# # \n",
    "# for clustering in range(5):\n",
    "# \t# loop through each occasion factor\n",
    "# \tfor r in range(R):\n",
    "# \t\t# extract first 2 components\n",
    "# \t\tcomponents = pca.fit_transform(Yis[clustering][r])  # get each X face\n",
    "# \t\tcomponents = pd.DataFrame(components, columns=['Component 1', 'Component 2'])\n",
    "# \t\tcomponents['cluster']=np.where(Us[clustering])[1]\n",
    "\n",
    "# \t\t# plot components in subplot\n",
    "# \t\tsns.scatterplot(ax=axes[clustering, r], data=components, x='Component 1', y='Component 2', hue=\"cluster\", style=\"cluster\", palette=\"deep\", s=120)\n",
    "# \t\taxes[clustering, r].set_title(f'{titles[clustering]} Occasion Factor (R={r+1})', pad=10)\n",
    "\n",
    "# \t\t# plotting centroids\n",
    "# \t\t# if clustering > 0:\n",
    "# \t\tcents = pca.fit_transform(Ygs[clustering][r])\n",
    "# \t\tcents = pd.DataFrame(cents, columns=['Component 1', 'Component 2'])\n",
    "# \t\tsns.scatterplot(ax=axes[clustering, r], data=cents, x='Component 1', y='Component 2', ec='red', hue=range(3), palette=[0,0,0], legend=False, s=100)\n",
    "\n",
    "# \t\tplt.savefig('synthetic_Yiqr_ct3Clus_twcfta.png')"
   ]
  },
  {
   "cell_type": "code",
   "execution_count": 15,
   "metadata": {},
   "outputs": [],
   "source": [
    "# # tss,bss,pseudof\n",
    "# print('ct0',np.array([ct0.TSS,ct0.BSS/ct0.TSS*100,ct0.PseudoF]).round(2))\n",
    "# print('ct025',np.array([ct025.TSS,ct025.BSS/ct025.TSS*100,ct025.PseudoF]).round(2))\n",
    "# print('ct05',np.array([ct05.TSS,ct05.BSS/ct05.TSS*100,ct05.PseudoF]).round(2))\n",
    "# print('ct075',np.array([ct075.TSS,ct075.BSS/ct075.TSS*100,ct075.PseudoF]).round(2))\n",
    "# print('ct1',np.array([ct1.TSS,ct1.BSS/ct1.TSS*100,ct1.PseudoF]).round(2))"
   ]
  },
  {
   "cell_type": "markdown",
   "metadata": {},
   "source": [
    "*Varimax*"
   ]
  },
  {
   "cell_type": "code",
   "execution_count": 16,
   "metadata": {},
   "outputs": [],
   "source": [
    "# # rotation and sorting of factor matrix\n",
    "# rotated_C_ct0, C_k_r_mem_ct0, C_k_r_mem_sorted_ct0, C_k_r_ind_lab_sorted_ct0 = sort_loadings_matrix(ct0.C_k_r)\n",
    "# df_C = pd.DataFrame(C_k_r_mem_sorted_ct0, index=[_+1 for _ in C_k_r_ind_lab_sorted_ct0.keys()], columns=range(1,R+1), dtype=int) #construct df of results\n",
    "\n",
    "# rotated_B_ct0, B_j_q_mem_ct0, B_j_q_mem_sorted_ct0, B_j_q_ind_lab_sorted_ct0 = sort_loadings_matrix(ct0.B_j_q)\n",
    "# df_B = pd.DataFrame(B_j_q_mem_sorted_ct0, index=[_+1 for _ in B_j_q_ind_lab_sorted_ct0.keys()], columns=range(1,Q+1), dtype=int) #construct df of results\n",
    "\n",
    "\n",
    "# # rotation and sorting of factor matrix\n",
    "# rotated_C_ct025, C_k_r_mem_ct025, C_k_r_mem_sorted_ct025, C_k_r_ind_lab_sorted_ct025 = sort_loadings_matrix(ct025.C_k_r)\n",
    "# df_C = pd.DataFrame(C_k_r_mem_sorted_ct025, index=[_+1 for _ in C_k_r_ind_lab_sorted_ct025.keys()], columns=range(1,R+1), dtype=int) #construct df of results\n",
    "\n",
    "# rotated_B_ct025, B_j_q_mem_ct025, B_j_q_mem_sorted_ct025, B_j_q_ind_lab_sorted_ct025 = sort_loadings_matrix(ct025.B_j_q)\n",
    "# df_B = pd.DataFrame(B_j_q_mem_sorted_ct025, index=[_+1 for _ in B_j_q_ind_lab_sorted_ct025.keys()], columns=range(1,Q+1), dtype=int) #construct df of results\n",
    "\n",
    "\n",
    "# # rotation and sorting of factor matrix\n",
    "# rotated_C_ct05, C_k_r_mem_ct05, C_k_r_mem_sorted_ct05, C_k_r_ind_lab_sorted_ct05 = sort_loadings_matrix(ct05.C_k_r)\n",
    "# df_C = pd.DataFrame(C_k_r_mem_sorted_ct05, index=[_+1 for _ in C_k_r_ind_lab_sorted_ct05.keys()], columns=range(1,R+1), dtype=int) #construct df of results\n",
    "\n",
    "# rotated_B_ct05, B_j_q_mem_ct05, B_j_q_mem_sorted_ct05, B_j_q_ind_lab_sorted_ct05 = sort_loadings_matrix(ct05.B_j_q)\n",
    "# df_B = pd.DataFrame(B_j_q_mem_sorted_ct05, index=[_+1 for _ in B_j_q_ind_lab_sorted_ct05.keys()], columns=range(1,Q+1), dtype=int) #construct df of results\n",
    "\n",
    "\n",
    "# # rotation and sorting of factor matrix\n",
    "# rotated_C_ct075, C_k_r_mem_ct075, C_k_r_mem_sorted_ct075, C_k_r_ind_lab_sorted_ct075 = sort_loadings_matrix(ct075.C_k_r)\n",
    "# df_C = pd.DataFrame(C_k_r_mem_sorted_ct075, index=[_+1 for _ in C_k_r_ind_lab_sorted_ct075.keys()], columns=range(1,R+1), dtype=int) #construct df of results\n",
    "\n",
    "# rotated_B_ct075, B_j_q_mem_ct075, B_j_q_mem_sorted_ct075, B_j_q_ind_lab_sorted_ct075 = sort_loadings_matrix(ct075.B_j_q)\n",
    "# df_B = pd.DataFrame(B_j_q_mem_sorted_ct075, index=[_+1 for _ in B_j_q_ind_lab_sorted_ct075.keys()], columns=range(1,Q+1), dtype=int) #construct df of results\n",
    "\n",
    "\n",
    "# # rotation and sorting of factor matrix\n",
    "# rotated_C_ct1, C_k_r_mem_ct1, C_k_r_mem_sorted_ct1, C_k_r_ind_lab_sorted_ct1 = sort_loadings_matrix(ct1.C_k_r)\n",
    "# df_C = pd.DataFrame(C_k_r_mem_sorted_ct1, index=[_+1 for _ in C_k_r_ind_lab_sorted_ct1.keys()], columns=range(1,R+1), dtype=int) #construct df of results\n",
    "\n",
    "# rotated_B_ct1, B_j_q_mem_ct1, B_j_q_mem_sorted_ct1, B_j_q_ind_lab_sorted_ct1 = sort_loadings_matrix(ct1.B_j_q)\n",
    "# df_B = pd.DataFrame(B_j_q_mem_sorted_ct1, index=[_+1 for _ in B_j_q_ind_lab_sorted_ct1.keys()], columns=range(1,Q+1), dtype=int) #construct df of results\n",
    "\n",
    "\n",
    "# # to latex rotated matrices\n",
    "# # a2l.to_ltx(rotated_B_cf, frmt = '{:6.2f}', arraytype='bmatrix')\n",
    "# # a2l.to_ltx(rotated_C_cf, frmt = '{:6.2f}', arraytype='bmatrix')\n"
   ]
  },
  {
   "cell_type": "markdown",
   "metadata": {},
   "source": [
    "*Metrics*"
   ]
  },
  {
   "cell_type": "code",
   "execution_count": 17,
   "metadata": {},
   "outputs": [],
   "source": [
    "# # Rand and Pseudo F metrics\n",
    "# U_rand_ct0 = adjusted_rand_score(np.where(ct0.U_i_g)[1], U_labels)\n",
    "# B_rand_ct0 = adjusted_rand_score(np.where(B_j_q_mem_ct0)[1], B_labels)\n",
    "# C_rand_ct0 = adjusted_rand_score(np.where(C_k_r_mem_ct0)[1], C_labels)\n",
    "\n",
    "# U_rand_ct025 = adjusted_rand_score(np.where(ct025.U_i_g)[1], U_labels)\n",
    "# B_rand_ct025 = adjusted_rand_score(np.where(B_j_q_mem_ct025)[1], B_labels)\n",
    "# C_rand_ct025 = adjusted_rand_score(np.where(C_k_r_mem_ct025)[1], C_labels)\n",
    "\n",
    "\n",
    "# U_rand_ct05 = adjusted_rand_score(np.where(ct05.U_i_g)[1], U_labels)\n",
    "# B_rand_ct05 = adjusted_rand_score(np.where(B_j_q_mem_ct05)[1], B_labels)\n",
    "# C_rand_ct05 = adjusted_rand_score(np.where(C_k_r_mem_ct05)[1], C_labels)\n",
    "\n",
    "\n",
    "# U_rand_ct075 = adjusted_rand_score(np.where(ct075.U_i_g)[1], U_labels)\n",
    "# B_rand_ct075 = adjusted_rand_score(np.where(B_j_q_mem_ct075)[1], B_labels)\n",
    "# C_rand_ct075 = adjusted_rand_score(np.where(C_k_r_mem_ct075)[1], C_labels)\n",
    "\n",
    "\n",
    "# U_rand_ct1 = adjusted_rand_score(np.where(ct1.U_i_g)[1], U_labels)\n",
    "# B_rand_ct1 = adjusted_rand_score(np.where(B_j_q_mem_ct1)[1], B_labels)\n",
    "# C_rand_ct1 = adjusted_rand_score(np.where(C_k_r_mem_ct1)[1], C_labels)\n",
    "\n",
    "\n",
    "# # F0,F,BSS%, PF, Urand, Brand, Crand\n",
    "# print('CT0:', np.array([ct0.Fs[0],ct0.Fs[1],U_rand_ct0, B_rand_ct0, C_rand_ct0]).round(3))\n",
    "# print('CT025:', np.array([ct025.Fs[0],ct025.Fs[1],U_rand_ct025, B_rand_ct025, C_rand_ct025]).round(3))\n",
    "# print('CT05:', np.array([ct05.Fs[0],ct05.Fs[1],U_rand_ct05, B_rand_ct05, C_rand_ct05]).round(3))\n",
    "# print('CT075:', np.array([ct075.Fs[0],ct075.Fs[1],U_rand_ct075, B_rand_ct075, C_rand_ct075]).round(3))\n",
    "# print('CT1:', np.array([ct1.Fs[0],ct1.Fs[1],U_rand_ct1, B_rand_ct1, C_rand_ct1]).round(3))\n"
   ]
  },
  {
   "cell_type": "code",
   "execution_count": 18,
   "metadata": {},
   "outputs": [],
   "source": [
    "# a2l.to_ltx(B_j_q_mem_ct05, frmt = '{:6.0f}', arraytype='tabular')\n"
   ]
  },
  {
   "cell_type": "code",
   "execution_count": null,
   "metadata": {},
   "outputs": [],
   "source": []
  },
  {
   "cell_type": "markdown",
   "metadata": {},
   "source": [
    "**TWFCTA Init**"
   ]
  },
  {
   "cell_type": "code",
   "execution_count": 19,
   "metadata": {},
   "outputs": [],
   "source": [
    "# # PLOTTING THE COMPONENTS\n",
    "\n",
    "# Xs = []\n",
    "# Us = []\n",
    "# Yis = []\n",
    "# Ygs = []\n",
    "\n",
    "# ct0 = CT3Clus(\n",
    "# \tverbose=True, init='twfcta', n_loops=5000, n_max_iter=100, tol=5e-3\n",
    "# \t).fit(X_i_jk=X_i_jk_scaled, full_tensor_shape=(I,J,K), reduced_tensor_shape=(G,Q,R), alpha=0)\n",
    "# X_i_jk_n = ct0.X_i_jk_scaled\n",
    "# Y_i_qr = X_i_jk_n@np.kron(ct0.C_k_r, ct0.B_j_q)\n",
    "# Us.append(ct0.U_i_g)\n",
    "# Ygs.append(fold(ct0.Y_g_qr, mode=1, shape=(R,G,Q)))\n",
    "# Yis.append(fold(Y_i_qr, mode=1, shape=(R,I,Q)))\n",
    "\n",
    "# ct025 = CT3Clus(\n",
    "# \tverbose=True, init='twfcta', n_loops=5000, n_max_iter=100, tol=5e-3\n",
    "# \t).fit(X_i_jk=X_i_jk_scaled, full_tensor_shape=(I,J,K), reduced_tensor_shape=(G,Q,R), alpha=0.25)\n",
    "# X_i_jk_n = ct025.X_i_jk_scaled\n",
    "# Y_i_qr = X_i_jk_n@np.kron(ct025.C_k_r, ct025.B_j_q)\n",
    "# Us.append(ct025.U_i_g)\n",
    "# Ygs.append(fold(ct025.Y_g_qr, mode=1, shape=(R,G,Q)))\n",
    "# Yis.append(fold(Y_i_qr, mode=1, shape=(R,I,Q)))\n",
    "\n",
    "# ct05 = CT3Clus(\n",
    "# \tverbose=True, init='twfcta', n_loops=5000, n_max_iter=100, tol=5e-3\n",
    "# \t).fit(X_i_jk=X_i_jk_scaled, full_tensor_shape=(I,J,K), reduced_tensor_shape=(G,Q,R), alpha=0.5)\n",
    "# X_i_jk_n = ct05.X_i_jk_scaled\n",
    "# Y_i_qr = X_i_jk_n@np.kron(ct05.C_k_r, ct05.B_j_q)\n",
    "# Us.append(ct05.U_i_g)\n",
    "# Ygs.append(fold(ct05.Y_g_qr, mode=1, shape=(R,G,Q)))\n",
    "# Yis.append(fold(Y_i_qr, mode=1, shape=(R,I,Q)))\n",
    "\n",
    "# ct075 = CT3Clus(\n",
    "# \tverbose=True, init='twfcta', n_loops=5000, n_max_iter=100, tol=5e-3\n",
    "# \t).fit(X_i_jk=X_i_jk_scaled, full_tensor_shape=(I,J,K), reduced_tensor_shape=(G,Q,R), alpha=0.75)\n",
    "# X_i_jk_n = ct075.X_i_jk_scaled\n",
    "# Y_i_qr = X_i_jk_n@np.kron(ct075.C_k_r, ct075.B_j_q)\n",
    "# Us.append(ct075.U_i_g)\n",
    "# Ygs.append(fold(ct075.Y_g_qr, mode=1, shape=(R,G,Q)))\n",
    "# Yis.append(fold(Y_i_qr, mode=1, shape=(R,I,Q)))\n",
    "\n",
    "# ct1 = CT3Clus(\n",
    "# \tverbose=True, init='twfcta', n_loops=5000, n_max_iter=100, tol=5e-3\n",
    "# \t).fit(X_i_jk=X_i_jk_scaled, full_tensor_shape=(I,J,K), reduced_tensor_shape=(G,Q,R), alpha=1)\n",
    "# X_i_jk_n = ct1.X_i_jk_scaled\n",
    "# Y_i_qr = X_i_jk_n@np.kron(ct1.C_k_r, ct1.B_j_q)\n",
    "# Us.append(ct1.U_i_g)\n",
    "# Ygs.append(fold(ct1.Y_g_qr, mode=1, shape=(R,G,Q)))\n",
    "# Yis.append(fold(Y_i_qr, mode=1, shape=(R,I,Q)))\n"
   ]
  },
  {
   "cell_type": "code",
   "execution_count": 20,
   "metadata": {},
   "outputs": [],
   "source": [
    "\n",
    "# plt.rcParams['axes.labelsize'] = 15\n",
    "# plt.rcParams['axes.titlesize'] = 15\n",
    "\n",
    "# pca = PCA(n_components=2)\n",
    "# fig, axes = plt.subplots(5, R, figsize=(15, 30), sharex=False, sharey=False, dpi=100)\n",
    "# # fig.suptitle('Pokemon Stats by Generation')\n",
    "\n",
    "# fig.subplots_adjust(hspace=0.3, wspace=0.3)\n",
    "\n",
    "# titles = ['a=0','a=0.25','a=0.5','a=0.75','a=1']\n",
    "\n",
    "# # \n",
    "# for clustering in range(5):\n",
    "# \t# loop through each occasion factor\n",
    "# \tfor r in range(R):\n",
    "# \t\t# extract first 2 components\n",
    "# \t\tcomponents = pca.fit_transform(Yis[clustering][r])  # get each X face\n",
    "# \t\tcomponents = pd.DataFrame(components, columns=['Component 1', 'Component 2'])\n",
    "# \t\tcomponents['cluster']=np.where(Us[clustering])[1]\n",
    "\n",
    "# \t\t# plot components in subplot\n",
    "# \t\tsns.scatterplot(ax=axes[clustering, r], data=components, x='Component 1', y='Component 2', hue=\"cluster\", style=\"cluster\", palette=\"deep\", s=120)\n",
    "# \t\taxes[clustering, r].set_title(f'{titles[clustering]} Occasion Factor (R={r+1})', pad=10)\n",
    "\n",
    "# \t\t# plotting centroids\n",
    "# \t\t# if clustering > 0:\n",
    "# \t\tcents = pca.fit_transform(Ygs[clustering][r])\n",
    "# \t\tcents = pd.DataFrame(cents, columns=['Component 1', 'Component 2'])\n",
    "# \t\tsns.scatterplot(ax=axes[clustering, r], data=cents, x='Component 1', y='Component 2', ec='red', hue=range(3), palette=[0,0,0], legend=False, s=100)\n",
    "\n",
    "# \t\tplt.savefig('synthetic_Yiqr_ct3Clus_twfcta.png')"
   ]
  },
  {
   "cell_type": "code",
   "execution_count": 21,
   "metadata": {},
   "outputs": [],
   "source": [
    "# # tss,bss,pseudof\n",
    "# print('ct0',np.array([ct0.TSS,ct0.BSS/ct0.TSS*100,ct0.PseudoF]).round(2))\n",
    "# print('ct025',np.array([ct025.TSS,ct025.BSS/ct025.TSS*100,ct025.PseudoF]).round(2))\n",
    "# print('ct05',np.array([ct05.TSS,ct05.BSS/ct05.TSS*100,ct05.PseudoF]).round(2))\n",
    "# print('ct075',np.array([ct075.TSS,ct075.BSS/ct075.TSS*100,ct075.PseudoF]).round(2))\n",
    "# print('ct1',np.array([ct1.TSS,ct1.BSS/ct1.TSS*100,ct1.PseudoF]).round(2))"
   ]
  },
  {
   "cell_type": "code",
   "execution_count": 22,
   "metadata": {},
   "outputs": [],
   "source": [
    "# # rotation and sorting of factor matrix\n",
    "# rotated_C_ct0, C_k_r_mem_ct0, C_k_r_mem_sorted_ct0, C_k_r_ind_lab_sorted_ct0 = sort_loadings_matrix(ct0.C_k_r)\n",
    "# df_C = pd.DataFrame(C_k_r_mem_sorted_ct0, index=[_+1 for _ in C_k_r_ind_lab_sorted_ct0.keys()], columns=range(1,R+1), dtype=int) #construct df of results\n",
    "\n",
    "# rotated_B_ct0, B_j_q_mem_ct0, B_j_q_mem_sorted_ct0, B_j_q_ind_lab_sorted_ct0 = sort_loadings_matrix(ct0.B_j_q)\n",
    "# df_B = pd.DataFrame(B_j_q_mem_sorted_ct0, index=[_+1 for _ in B_j_q_ind_lab_sorted_ct0.keys()], columns=range(1,Q+1), dtype=int) #construct df of results\n",
    "\n",
    "\n",
    "# # rotation and sorting of factor matrix\n",
    "# rotated_C_ct025, C_k_r_mem_ct025, C_k_r_mem_sorted_ct025, C_k_r_ind_lab_sorted_ct025 = sort_loadings_matrix(ct025.C_k_r)\n",
    "# df_C = pd.DataFrame(C_k_r_mem_sorted_ct025, index=[_+1 for _ in C_k_r_ind_lab_sorted_ct025.keys()], columns=range(1,R+1), dtype=int) #construct df of results\n",
    "\n",
    "# rotated_B_ct025, B_j_q_mem_ct025, B_j_q_mem_sorted_ct025, B_j_q_ind_lab_sorted_ct025 = sort_loadings_matrix(ct025.B_j_q)\n",
    "# df_B = pd.DataFrame(B_j_q_mem_sorted_ct025, index=[_+1 for _ in B_j_q_ind_lab_sorted_ct025.keys()], columns=range(1,Q+1), dtype=int) #construct df of results\n",
    "\n",
    "\n",
    "# # rotation and sorting of factor matrix\n",
    "# rotated_C_ct05, C_k_r_mem_ct05, C_k_r_mem_sorted_ct05, C_k_r_ind_lab_sorted_ct05 = sort_loadings_matrix(ct05.C_k_r)\n",
    "# df_C = pd.DataFrame(C_k_r_mem_sorted_ct05, index=[_+1 for _ in C_k_r_ind_lab_sorted_ct05.keys()], columns=range(1,R+1), dtype=int) #construct df of results\n",
    "\n",
    "# rotated_B_ct05, B_j_q_mem_ct05, B_j_q_mem_sorted_ct05, B_j_q_ind_lab_sorted_ct05 = sort_loadings_matrix(ct05.B_j_q)\n",
    "# df_B = pd.DataFrame(B_j_q_mem_sorted_ct05, index=[_+1 for _ in B_j_q_ind_lab_sorted_ct05.keys()], columns=range(1,Q+1), dtype=int) #construct df of results\n",
    "\n",
    "\n",
    "# # rotation and sorting of factor matrix\n",
    "# rotated_C_ct075, C_k_r_mem_ct075, C_k_r_mem_sorted_ct075, C_k_r_ind_lab_sorted_ct075 = sort_loadings_matrix(ct075.C_k_r)\n",
    "# df_C = pd.DataFrame(C_k_r_mem_sorted_ct075, index=[_+1 for _ in C_k_r_ind_lab_sorted_ct075.keys()], columns=range(1,R+1), dtype=int) #construct df of results\n",
    "\n",
    "# rotated_B_ct075, B_j_q_mem_ct075, B_j_q_mem_sorted_ct075, B_j_q_ind_lab_sorted_ct075 = sort_loadings_matrix(ct075.B_j_q)\n",
    "# df_B = pd.DataFrame(B_j_q_mem_sorted_ct075, index=[_+1 for _ in B_j_q_ind_lab_sorted_ct075.keys()], columns=range(1,Q+1), dtype=int) #construct df of results\n",
    "\n",
    "\n",
    "# # rotation and sorting of factor matrix\n",
    "# rotated_C_ct1, C_k_r_mem_ct1, C_k_r_mem_sorted_ct1, C_k_r_ind_lab_sorted_ct1 = sort_loadings_matrix(ct1.C_k_r)\n",
    "# df_C = pd.DataFrame(C_k_r_mem_sorted_ct1, index=[_+1 for _ in C_k_r_ind_lab_sorted_ct1.keys()], columns=range(1,R+1), dtype=int) #construct df of results\n",
    "\n",
    "# rotated_B_ct1, B_j_q_mem_ct1, B_j_q_mem_sorted_ct1, B_j_q_ind_lab_sorted_ct1 = sort_loadings_matrix(ct1.B_j_q)\n",
    "# df_B = pd.DataFrame(B_j_q_mem_sorted_ct1, index=[_+1 for _ in B_j_q_ind_lab_sorted_ct1.keys()], columns=range(1,Q+1), dtype=int) #construct df of results\n",
    "\n",
    "\n",
    "# # to latex rotated matrices\n",
    "# # a2l.to_ltx(rotated_B_cf, frmt = '{:6.2f}', arraytype='bmatrix')\n",
    "# # a2l.to_ltx(rotated_C_cf, frmt = '{:6.2f}', arraytype='bmatrix')\n"
   ]
  },
  {
   "cell_type": "code",
   "execution_count": 23,
   "metadata": {},
   "outputs": [],
   "source": [
    "# # Rand and Pseudo F metrics\n",
    "# U_rand_ct0 = adjusted_rand_score(np.where(ct0.U_i_g)[1], U_labels)\n",
    "# B_rand_ct0 = adjusted_rand_score(np.where(B_j_q_mem_ct0)[1], B_labels)\n",
    "# C_rand_ct0 = adjusted_rand_score(np.where(C_k_r_mem_ct0)[1], C_labels)\n",
    "\n",
    "# U_rand_ct025 = adjusted_rand_score(np.where(ct025.U_i_g)[1], U_labels)\n",
    "# B_rand_ct025 = adjusted_rand_score(np.where(B_j_q_mem_ct025)[1], B_labels)\n",
    "# C_rand_ct025 = adjusted_rand_score(np.where(C_k_r_mem_ct025)[1], C_labels)\n",
    "\n",
    "\n",
    "# U_rand_ct05 = adjusted_rand_score(np.where(ct05.U_i_g)[1], U_labels)\n",
    "# B_rand_ct05 = adjusted_rand_score(np.where(B_j_q_mem_ct05)[1], B_labels)\n",
    "# C_rand_ct05 = adjusted_rand_score(np.where(C_k_r_mem_ct05)[1], C_labels)\n",
    "\n",
    "\n",
    "# U_rand_ct075 = adjusted_rand_score(np.where(ct075.U_i_g)[1], U_labels)\n",
    "# B_rand_ct075 = adjusted_rand_score(np.where(B_j_q_mem_ct075)[1], B_labels)\n",
    "# C_rand_ct075 = adjusted_rand_score(np.where(C_k_r_mem_ct075)[1], C_labels)\n",
    "\n",
    "\n",
    "# U_rand_ct1 = adjusted_rand_score(np.where(ct1.U_i_g)[1], U_labels)\n",
    "# B_rand_ct1 = adjusted_rand_score(np.where(B_j_q_mem_ct1)[1], B_labels)\n",
    "# C_rand_ct1 = adjusted_rand_score(np.where(C_k_r_mem_ct1)[1], C_labels)\n",
    "\n",
    "\n",
    "# # F0,F,BSS%, PF, Urand, Brand, Crand\n",
    "# print('CT0:', np.array([ct0.Fs[0],ct0.Fs[1],U_rand_ct0, B_rand_ct0, C_rand_ct0]).round(3))\n",
    "# print('CT025:', np.array([ct025.Fs[0],ct025.Fs[1],U_rand_ct025, B_rand_ct025, C_rand_ct025]).round(3))\n",
    "# print('CT05:', np.array([ct05.Fs[0],ct05.Fs[1],U_rand_ct05, B_rand_ct05, C_rand_ct05]).round(3))\n",
    "# print('CT075:', np.array([ct075.Fs[0],ct075.Fs[1],U_rand_ct075, B_rand_ct075, C_rand_ct075]).round(3))\n",
    "# print('CT1:', np.array([ct1.Fs[0],ct1.Fs[1],U_rand_ct1, B_rand_ct1, C_rand_ct1]).round(3))\n"
   ]
  },
  {
   "cell_type": "code",
   "execution_count": 24,
   "metadata": {},
   "outputs": [],
   "source": [
    "# a2l.to_ltx(C_k_r_mem_ct1, frmt = '{:6.0f}', arraytype='tabular')"
   ]
  },
  {
   "cell_type": "code",
   "execution_count": 25,
   "metadata": {},
   "outputs": [],
   "source": [
    "# alpha=1\n",
    "# C = ct1.C_k_r\n",
    "# B = ct1.B_j_q\n",
    "# U = ct1.U_i_g\n",
    "# I_jk_jk = np.eye(J*K)\n",
    "\n",
    "# P = np.kron(C@C.T, B@B.T)\n",
    "# X_N = X_i_jk_scaled @ (P + (alpha**0.5)*(I_jk_jk-P) )\n",
    "# # Y_i = X_N@np.kron(C, B)\n",
    "\n",
    "# Y_i=fold(X_N@np.kron(C, B), mode=1, shape=(R,I,Q))\n",
    "# Y_i=fold(ct0.Y_g_qr, mode=1, shape=(R,G,Q))\n",
    "# a2l.to_ltx(Y_i[0], frmt = '{:6.2f}', arraytype='bmatrix')\n",
    "# a2l.to_ltx(Y_i[1], frmt = '{:6.2f}', arraytype='bmatrix')\n",
    "\n",
    "# # Z_i = U@np.linalg.inv(U.T@U)@U.T@X_N@np.kron(C,B)\n",
    "# # Y_i = X_N @np.kron(C,B)\n",
    "# # (Z_i.var()*Z_i.size)/(Y_i.var()*Y_i.size)\n"
   ]
  },
  {
   "cell_type": "markdown",
   "metadata": {},
   "source": [
    "**SVD Initialization**"
   ]
  },
  {
   "cell_type": "code",
   "execution_count": 26,
   "metadata": {},
   "outputs": [
    {
     "name": "stdout",
     "output_type": "stream",
     "text": [
      "Loop    Iteration    Loop time    BSS (%)    PseudoF    Convergence\n",
      "------  -----------  -----------  ---------  ---------  -------------\n",
      "1    2    0.0043    44.2579    5.4856    True\n",
      "Loop    Iteration    Loop time    BSS (%)    PseudoF    Convergence\n",
      "------  -----------  -----------  ---------  ---------  -------------\n",
      "1    8    0.008    35.7614    3.8463    True\n",
      "Loop    Iteration    Loop time    BSS (%)    PseudoF    Convergence\n",
      "------  -----------  -----------  ---------  ---------  -------------\n",
      "1    10    0.008    25.7215    2.3925    True\n",
      "Loop    Iteration    Loop time    BSS (%)    PseudoF    Convergence\n",
      "------  -----------  -----------  ---------  ---------  -------------\n",
      "1    6    0.009    42.6928    5.1471    True\n",
      "Loop    Iteration    Loop time    BSS (%)    PseudoF    Convergence\n",
      "------  -----------  -----------  ---------  ---------  -------------\n",
      "1    5    0.005    53.0525    7.8076    True\n"
     ]
    }
   ],
   "source": [
    "# PLOTTING THE COMPONENTS\n",
    "\n",
    "Xs = []\n",
    "Us = []\n",
    "Yis = []\n",
    "Ygs = []\n",
    "\n",
    "ct0 = CT3Clus(\n",
    "\tverbose=True, init='svd', n_loops=5000, n_max_iter=100, tol=5e-3\n",
    "\t).fit(X_i_jk=X_i_jk_scaled, full_tensor_shape=(I,J,K), reduced_tensor_shape=(G,Q,R), alpha=0)\n",
    "X_i_jk_n = ct0.X_i_jk_scaled\n",
    "Y_i_qr = X_i_jk_n@np.kron(ct0.C_k_r, ct0.B_j_q)\n",
    "Us.append(ct0.U_i_g)\n",
    "Ygs.append(fold(ct0.Y_g_qr, mode=1, shape=(R,G,Q)))\n",
    "Yis.append(fold(Y_i_qr, mode=1, shape=(R,I,Q)))\n",
    "\n",
    "ct025 = CT3Clus(\n",
    "\tverbose=True, init='svd', n_loops=5000, n_max_iter=100, tol=5e-3\n",
    "\t).fit(X_i_jk=X_i_jk_scaled, full_tensor_shape=(I,J,K), reduced_tensor_shape=(G,Q,R), alpha=0.25)\n",
    "X_i_jk_n = ct025.X_i_jk_scaled\n",
    "Y_i_qr = X_i_jk_n@np.kron(ct025.C_k_r, ct025.B_j_q)\n",
    "Us.append(ct025.U_i_g)\n",
    "Ygs.append(fold(ct025.Y_g_qr, mode=1, shape=(R,G,Q)))\n",
    "Yis.append(fold(Y_i_qr, mode=1, shape=(R,I,Q)))\n",
    "\n",
    "ct05 = CT3Clus(\n",
    "\tverbose=True, init='svd', n_loops=5000, n_max_iter=100, tol=5e-3\n",
    "\t).fit(X_i_jk=X_i_jk_scaled, full_tensor_shape=(I,J,K), reduced_tensor_shape=(G,Q,R), alpha=0.5)\n",
    "X_i_jk_n = ct05.X_i_jk_scaled\n",
    "Y_i_qr = X_i_jk_n@np.kron(ct05.C_k_r, ct05.B_j_q)\n",
    "Us.append(ct05.U_i_g)\n",
    "Ygs.append(fold(ct05.Y_g_qr, mode=1, shape=(R,G,Q)))\n",
    "Yis.append(fold(Y_i_qr, mode=1, shape=(R,I,Q)))\n",
    "\n",
    "ct075 = CT3Clus(\n",
    "\tverbose=True, init='svd', n_loops=5000, n_max_iter=100, tol=5e-3\n",
    "\t).fit(X_i_jk=X_i_jk_scaled, full_tensor_shape=(I,J,K), reduced_tensor_shape=(G,Q,R), alpha=0.75)\n",
    "X_i_jk_n = ct075.X_i_jk_scaled\n",
    "Y_i_qr = X_i_jk_n@np.kron(ct075.C_k_r, ct075.B_j_q)\n",
    "Us.append(ct075.U_i_g)\n",
    "Ygs.append(fold(ct075.Y_g_qr, mode=1, shape=(R,G,Q)))\n",
    "Yis.append(fold(Y_i_qr, mode=1, shape=(R,I,Q)))\n",
    "\n",
    "ct1 = CT3Clus(\n",
    "\tverbose=True, init='svd', n_loops=5000, n_max_iter=100, tol=5e-3\n",
    "\t).fit(X_i_jk=X_i_jk_scaled, full_tensor_shape=(I,J,K), reduced_tensor_shape=(G,Q,R), alpha=1)\n",
    "X_i_jk_n = ct1.X_i_jk_scaled\n",
    "Y_i_qr = X_i_jk_n@np.kron(ct1.C_k_r, ct1.B_j_q)\n",
    "Us.append(ct1.U_i_g)\n",
    "Ygs.append(fold(ct1.Y_g_qr, mode=1, shape=(R,G,Q)))\n",
    "Yis.append(fold(Y_i_qr, mode=1, shape=(R,I,Q)))\n"
   ]
  },
  {
   "cell_type": "code",
   "execution_count": 27,
   "metadata": {},
   "outputs": [
    {
     "data": {
      "image/png": "[encoded data removed]",
      "text/plain": [
       "<Figure size 1500x3000 with 10 Axes>"
      ]
     },
     "metadata": {
      "needs_background": "light"
     },
     "output_type": "display_data"
    }
   ],
   "source": [
    "\n",
    "plt.rcParams['axes.labelsize'] = 15\n",
    "plt.rcParams['axes.titlesize'] = 15\n",
    "\n",
    "pca = PCA(n_components=2)\n",
    "fig, axes = plt.subplots(5, R, figsize=(15, 30), sharex=False, sharey=False, dpi=100)\n",
    "# fig.suptitle('Pokemon Stats by Generation')\n",
    "\n",
    "fig.subplots_adjust(hspace=0.3, wspace=0.3)\n",
    "\n",
    "titles = ['a=0','a=0.25','a=0.5','a=0.75','a=1']\n",
    "\n",
    "# \n",
    "for clustering in range(5):\n",
    "\t# loop through each occasion factor\n",
    "\tfor r in range(R):\n",
    "\t\t# extract first 2 components\n",
    "\t\tcomponents = pca.fit_transform(Yis[clustering][r])  # get each X face\n",
    "\t\tcomponents = pd.DataFrame(components, columns=['Component 1', 'Component 2'])\n",
    "\t\tcomponents['cluster']=np.where(Us[clustering])[1]\n",
    "\n",
    "\t\t# plot components in subplot\n",
    "\t\tsns.scatterplot(ax=axes[clustering, r], data=components, x='Component 1', y='Component 2', hue=\"cluster\", style=\"cluster\", palette=\"deep\", s=120)\n",
    "\t\taxes[clustering, r].set_title(f'{titles[clustering]} Occasion Factor (R={r+1})', pad=10)\n",
    "\n",
    "\t\t# plotting centroids\n",
    "\t\t# if clustering > 0:\n",
    "\t\tcents = pca.fit_transform(Ygs[clustering][r])\n",
    "\t\tcents = pd.DataFrame(cents, columns=['Component 1', 'Component 2'])\n",
    "\t\tsns.scatterplot(ax=axes[clustering, r], data=cents, x='Component 1', y='Component 2', ec='red', hue=range(3), palette=[0,0,0], legend=False, s=100)\n",
    "\n",
    "\t\tplt.savefig('synthetic_Yiqr_ct3Clus_svd.png')"
   ]
  },
  {
   "cell_type": "code",
   "execution_count": 28,
   "metadata": {},
   "outputs": [
    {
     "name": "stdout",
     "output_type": "stream",
     "text": [
      "ct0 [82.61 44.26  5.49]\n",
      "ct025 [61.01 35.76  3.85]\n",
      "ct05 [59.35 25.72  2.39]\n",
      "ct075 [73.19 42.69  5.15]\n",
      "ct1 [80.44 53.05  7.81]\n"
     ]
    }
   ],
   "source": [
    "# tss,bss,pseudof\n",
    "print('ct0',np.array([ct0.TSS,ct0.BSS/ct0.TSS*100,ct0.PseudoF]).round(2))\n",
    "print('ct025',np.array([ct025.TSS,ct025.BSS/ct025.TSS*100,ct025.PseudoF]).round(2))\n",
    "print('ct05',np.array([ct05.TSS,ct05.BSS/ct05.TSS*100,ct05.PseudoF]).round(2))\n",
    "print('ct075',np.array([ct075.TSS,ct075.BSS/ct075.TSS*100,ct075.PseudoF]).round(2))\n",
    "print('ct1',np.array([ct1.TSS,ct1.BSS/ct1.TSS*100,ct1.PseudoF]).round(2))"
   ]
  },
  {
   "cell_type": "code",
   "execution_count": 29,
   "metadata": {},
   "outputs": [],
   "source": [
    "# rotation and sorting of factor matrix\n",
    "rotated_C_ct0, C_k_r_mem_ct0, C_k_r_mem_sorted_ct0, C_k_r_ind_lab_sorted_ct0 = sort_loadings_matrix(ct0.C_k_r)\n",
    "df_C = pd.DataFrame(C_k_r_mem_sorted_ct0, index=[_+1 for _ in C_k_r_ind_lab_sorted_ct0.keys()], columns=range(1,R+1), dtype=int) #construct df of results\n",
    "\n",
    "rotated_B_ct0, B_j_q_mem_ct0, B_j_q_mem_sorted_ct0, B_j_q_ind_lab_sorted_ct0 = sort_loadings_matrix(ct0.B_j_q)\n",
    "df_B = pd.DataFrame(B_j_q_mem_sorted_ct0, index=[_+1 for _ in B_j_q_ind_lab_sorted_ct0.keys()], columns=range(1,Q+1), dtype=int) #construct df of results\n",
    "\n",
    "\n",
    "# rotation and sorting of factor matrix\n",
    "rotated_C_ct025, C_k_r_mem_ct025, C_k_r_mem_sorted_ct025, C_k_r_ind_lab_sorted_ct025 = sort_loadings_matrix(ct025.C_k_r)\n",
    "df_C = pd.DataFrame(C_k_r_mem_sorted_ct025, index=[_+1 for _ in C_k_r_ind_lab_sorted_ct025.keys()], columns=range(1,R+1), dtype=int) #construct df of results\n",
    "\n",
    "rotated_B_ct025, B_j_q_mem_ct025, B_j_q_mem_sorted_ct025, B_j_q_ind_lab_sorted_ct025 = sort_loadings_matrix(ct025.B_j_q)\n",
    "df_B = pd.DataFrame(B_j_q_mem_sorted_ct025, index=[_+1 for _ in B_j_q_ind_lab_sorted_ct025.keys()], columns=range(1,Q+1), dtype=int) #construct df of results\n",
    "\n",
    "\n",
    "# rotation and sorting of factor matrix\n",
    "rotated_C_ct05, C_k_r_mem_ct05, C_k_r_mem_sorted_ct05, C_k_r_ind_lab_sorted_ct05 = sort_loadings_matrix(ct05.C_k_r)\n",
    "df_C = pd.DataFrame(C_k_r_mem_sorted_ct05, index=[_+1 for _ in C_k_r_ind_lab_sorted_ct05.keys()], columns=range(1,R+1), dtype=int) #construct df of results\n",
    "\n",
    "rotated_B_ct05, B_j_q_mem_ct05, B_j_q_mem_sorted_ct05, B_j_q_ind_lab_sorted_ct05 = sort_loadings_matrix(ct05.B_j_q)\n",
    "df_B = pd.DataFrame(B_j_q_mem_sorted_ct05, index=[_+1 for _ in B_j_q_ind_lab_sorted_ct05.keys()], columns=range(1,Q+1), dtype=int) #construct df of results\n",
    "\n",
    "\n",
    "# rotation and sorting of factor matrix\n",
    "rotated_C_ct075, C_k_r_mem_ct075, C_k_r_mem_sorted_ct075, C_k_r_ind_lab_sorted_ct075 = sort_loadings_matrix(ct075.C_k_r)\n",
    "df_C = pd.DataFrame(C_k_r_mem_sorted_ct075, index=[_+1 for _ in C_k_r_ind_lab_sorted_ct075.keys()], columns=range(1,R+1), dtype=int) #construct df of results\n",
    "\n",
    "rotated_B_ct075, B_j_q_mem_ct075, B_j_q_mem_sorted_ct075, B_j_q_ind_lab_sorted_ct075 = sort_loadings_matrix(ct075.B_j_q)\n",
    "df_B = pd.DataFrame(B_j_q_mem_sorted_ct075, index=[_+1 for _ in B_j_q_ind_lab_sorted_ct075.keys()], columns=range(1,Q+1), dtype=int) #construct df of results\n",
    "\n",
    "\n",
    "# rotation and sorting of factor matrix\n",
    "rotated_C_ct1, C_k_r_mem_ct1, C_k_r_mem_sorted_ct1, C_k_r_ind_lab_sorted_ct1 = sort_loadings_matrix(ct1.C_k_r)\n",
    "df_C = pd.DataFrame(C_k_r_mem_sorted_ct1, index=[_+1 for _ in C_k_r_ind_lab_sorted_ct1.keys()], columns=range(1,R+1), dtype=int) #construct df of results\n",
    "\n",
    "rotated_B_ct1, B_j_q_mem_ct1, B_j_q_mem_sorted_ct1, B_j_q_ind_lab_sorted_ct1 = sort_loadings_matrix(ct1.B_j_q)\n",
    "df_B = pd.DataFrame(B_j_q_mem_sorted_ct1, index=[_+1 for _ in B_j_q_ind_lab_sorted_ct1.keys()], columns=range(1,Q+1), dtype=int) #construct df of results\n",
    "\n",
    "\n",
    "# to latex rotated matrices\n",
    "# a2l.to_ltx(rotated_B_cf, frmt = '{:6.2f}', arraytype='bmatrix')\n",
    "# a2l.to_ltx(rotated_C_cf, frmt = '{:6.2f}', arraytype='bmatrix')\n"
   ]
  },
  {
   "cell_type": "code",
   "execution_count": 30,
   "metadata": {},
   "outputs": [
    {
     "name": "stdout",
     "output_type": "stream",
     "text": [
      "CT0: [ 4.451  5.473  0.478 -0.25   1.   ]\n",
      "CT025: [ 4.322  3.917 -0.217 -0.25   0.   ]\n",
      "CT05: [ 3.562  3.939  0.238 -0.25  -0.333]\n",
      "CT075: [ 2.877  4.189  0.182 -0.25  -0.333]\n",
      "CT1: [ 3.918  5.15   0.048 -0.25   0.   ]\n"
     ]
    }
   ],
   "source": [
    "# Rand and Pseudo F metrics\n",
    "U_rand_ct0 = adjusted_rand_score(np.where(ct0.U_i_g)[1], U_labels)\n",
    "B_rand_ct0 = adjusted_rand_score(np.where(B_j_q_mem_ct0)[1], B_labels)\n",
    "C_rand_ct0 = adjusted_rand_score(np.where(C_k_r_mem_ct0)[1], C_labels)\n",
    "\n",
    "U_rand_ct025 = adjusted_rand_score(np.where(ct025.U_i_g)[1], U_labels)\n",
    "B_rand_ct025 = adjusted_rand_score(np.where(B_j_q_mem_ct025)[1], B_labels)\n",
    "C_rand_ct025 = adjusted_rand_score(np.where(C_k_r_mem_ct025)[1], C_labels)\n",
    "\n",
    "\n",
    "U_rand_ct05 = adjusted_rand_score(np.where(ct05.U_i_g)[1], U_labels)\n",
    "B_rand_ct05 = adjusted_rand_score(np.where(B_j_q_mem_ct05)[1], B_labels)\n",
    "C_rand_ct05 = adjusted_rand_score(np.where(C_k_r_mem_ct05)[1], C_labels)\n",
    "\n",
    "\n",
    "U_rand_ct075 = adjusted_rand_score(np.where(ct075.U_i_g)[1], U_labels)\n",
    "B_rand_ct075 = adjusted_rand_score(np.where(B_j_q_mem_ct075)[1], B_labels)\n",
    "C_rand_ct075 = adjusted_rand_score(np.where(C_k_r_mem_ct075)[1], C_labels)\n",
    "\n",
    "\n",
    "U_rand_ct1 = adjusted_rand_score(np.where(ct1.U_i_g)[1], U_labels)\n",
    "B_rand_ct1 = adjusted_rand_score(np.where(B_j_q_mem_ct1)[1], B_labels)\n",
    "C_rand_ct1 = adjusted_rand_score(np.where(C_k_r_mem_ct1)[1], C_labels)\n",
    "\n",
    "\n",
    "# F0,F,BSS%, PF, Urand, Brand, Crand\n",
    "print('CT0:', np.array([ct0.Fs[0],ct0.Fs[1],U_rand_ct0, B_rand_ct0, C_rand_ct0]).round(3))\n",
    "print('CT025:', np.array([ct025.Fs[0],ct025.Fs[1],U_rand_ct025, B_rand_ct025, C_rand_ct025]).round(3))\n",
    "print('CT05:', np.array([ct05.Fs[0],ct05.Fs[1],U_rand_ct05, B_rand_ct05, C_rand_ct05]).round(3))\n",
    "print('CT075:', np.array([ct075.Fs[0],ct075.Fs[1],U_rand_ct075, B_rand_ct075, C_rand_ct075]).round(3))\n",
    "print('CT1:', np.array([ct1.Fs[0],ct1.Fs[1],U_rand_ct1, B_rand_ct1, C_rand_ct1]).round(3))\n"
   ]
  },
  {
   "cell_type": "code",
   "execution_count": 43,
   "metadata": {},
   "outputs": [
    {
     "name": "stdout",
     "output_type": "stream",
     "text": [
      "\\begin{tabular}\n",
      "       1  &       0 \\\\\n",
      "       1  &       0 \\\\\n",
      "       1  &       0 \\\\\n",
      "       0  &       1 \n",
      "\\end{tabular}\n"
     ]
    }
   ],
   "source": [
    "a2l.to_ltx(C_k_r_mem_ct0, frmt = '{:6.0f}', arraytype='tabular')\n"
   ]
  },
  {
   "cell_type": "code",
   "execution_count": 100,
   "metadata": {},
   "outputs": [],
   "source": [
    "U=np.array([\n",
    "\t[1,0,0],\n",
    "\t[0,1,0],\n",
    "\t[0,0,1],\n",
    "\t[0,0,1],\n",
    "\t[0,1,0],\n",
    "\t[1,0,0],\n",
    "\t[0,0,1],\n",
    "\t[0,1,0],\n",
    "])\n",
    "B = np.array([\n",
    "\t[-0.67, 0.33, -0.47],\n",
    "\t[-0.44,-0.76,-0.13],\n",
    "\t[0.33,-0.04,-0.86],\n",
    "\t[-0.51,0.19,0.16],\n",
    "\t[0.01,-0.53,0]\n",
    "])\n",
    "C= np.array([\n",
    "\t[-0.71,0.61],\n",
    "\t[-0.4,-0.73],\n",
    "\t[-0.5,-0.12],\n",
    "\t[-0.28,-0.28]\n",
    "])"
   ]
  },
  {
   "cell_type": "code",
   "execution_count": 102,
   "metadata": {},
   "outputs": [],
   "source": [
    "Ziqr = U@np.linalg.inv(U.T@U)@U.T@X_i_jk_scaled@np.kron(C,B)\n",
    "Yiqr = X_i_jk_scaled@np.kron(C,B)"
   ]
  },
  {
   "cell_type": "code",
   "execution_count": 103,
   "metadata": {},
   "outputs": [
    {
     "data": {
      "text/plain": [
       "0.9311579662980805"
      ]
     },
     "execution_count": 103,
     "metadata": {},
     "output_type": "execute_result"
    }
   ],
   "source": [
    "np.linalg.norm(Ziqr,2)/(np.linalg.norm(Yiqr,2))"
   ]
  },
  {
   "cell_type": "code",
   "execution_count": null,
   "metadata": {},
   "outputs": [],
   "source": [
    "(Ziqr.var()*Ziqr.size)/(Z_i_jk.var()*Z_i_jk.size)"
   ]
  },
  {
   "cell_type": "code",
   "execution_count": 95,
   "metadata": {},
   "outputs": [],
   "source": [
    "Zijk_=U@np.linalg.inv(U.T@U)@U.T@X_i_jk_scaled"
   ]
  },
  {
   "cell_type": "code",
   "execution_count": 96,
   "metadata": {},
   "outputs": [
    {
     "data": {
      "text/plain": [
       "0.9077590169235265"
      ]
     },
     "execution_count": 96,
     "metadata": {},
     "output_type": "execute_result"
    }
   ],
   "source": [
    "np.linalg.norm(Zijk_,2)/(np.linalg.norm(Z_i_jk,2))"
   ]
  },
  {
   "cell_type": "code",
   "execution_count": 97,
   "metadata": {},
   "outputs": [
    {
     "data": {
      "text/plain": [
       "0.772369084287024"
      ]
     },
     "execution_count": 97,
     "metadata": {},
     "output_type": "execute_result"
    }
   ],
   "source": [
    "(Zijk_.var()*Zijk_.size)/(Z_i_jk.var()*Z_i_jk.size)"
   ]
  },
  {
   "cell_type": "code",
   "execution_count": 98,
   "metadata": {},
   "outputs": [
    {
     "data": {
      "text/plain": [
       "0.31979822249677226"
      ]
     },
     "execution_count": 98,
     "metadata": {},
     "output_type": "execute_result"
    }
   ],
   "source": [
    "(Zijk_.var()*Zijk_.size)/(X_i_jk_scaled.var()*Z_i_jk.size)"
   ]
  },
  {
   "cell_type": "code",
   "execution_count": 31,
   "metadata": {},
   "outputs": [
    {
     "ename": "NameError",
     "evalue": "name 'dsdfdsf' is not defined",
     "output_type": "error",
     "traceback": [
      "\u001b[1;31m---------------------------------------------------------------------------\u001b[0m",
      "\u001b[1;31mNameError\u001b[0m                                 Traceback (most recent call last)",
      "Input \u001b[1;32mIn [31]\u001b[0m, in \u001b[0;36m<module>\u001b[1;34m\u001b[0m\n\u001b[1;32m----> 1\u001b[0m \u001b[43mdsdfdsf\u001b[49m\n",
      "\u001b[1;31mNameError\u001b[0m: name 'dsdfdsf' is not defined"
     ]
    }
   ],
   "source": [
    "dsdfdsf"
   ]
  },
  {
   "cell_type": "code",
   "execution_count": null,
   "metadata": {},
   "outputs": [],
   "source": []
  },
  {
   "cell_type": "code",
   "execution_count": null,
   "metadata": {},
   "outputs": [],
   "source": []
  },
  {
   "cell_type": "markdown",
   "metadata": {},
   "source": [
    "**TANDEM MODELS**"
   ]
  },
  {
   "cell_type": "code",
   "execution_count": null,
   "metadata": {},
   "outputs": [],
   "source": [
    "# PLOTTING THE COMPONENTS\n",
    "\n",
    "Xs = []\n",
    "Us = []\n",
    "Yis = []\n",
    "Ygs = []\n",
    "\n",
    "\n",
    "cf=TWCFTA(verbose=True, init='random', n_loops=5000, n_max_iter=100, tol=5e-3).fit(X_i_jk=X_i_jk_scaled, full_tensor_shape=(I,J,K), reduced_tensor_shape=(G,Q,R))\n",
    "# cf=TWCFTA(verbose=True, init='random', n_loops=5, n_max_iter=100, tol=1e-3, U_i_g=U_i_g0, B_j_q=B_j_q0, C_k_r=C_k_r0).fit(X_i_jk=X_i_jk_scaled, full_tensor_shape=(I,J,K), reduced_tensor_shape=(G,Q,R))\n",
    "# cf=TWCFTA(verbose=True, init='random', n_loops=5, n_max_iter=1000, tol=1e-3, B_j_q=B_j_q0, C_k_r=C_k_r0).fit(X_i_jk=X_i_jk_scaled, full_tensor_shape=(I,J,K), reduced_tensor_shape=(G,Q,R))\n",
    "X_i_jk_n = cf.X_i_jk_scaled\n",
    "Y_i_qr = X_i_jk_n@np.kron(cf.C_k_r, cf.B_j_q)\n",
    "Us.append(cf.U_i_g)\n",
    "Ygs.append(fold(cf.Y_g_qr, mode=1, shape=(R,G,Q)))\n",
    "Yis.append(fold(Y_i_qr, mode=1, shape=(R,I,Q)))\n",
    "\n",
    "\n",
    "fc=TWFCTA(verbose=True, init='random', n_loops=5000, n_max_iter=100, tol=5e-3).fit(X_i_jk=X_i_jk_scaled, full_tensor_shape=(I,J,K), reduced_tensor_shape=(G,Q,R))\n",
    "# fc=TWFCTA(verbose=True, init='random', n_loops=5, n_max_iter=100, tol=1e-3, U_i_g=U_i_g0, B_j_q=B_j_q0, C_k_r=C_k_r0).fit(X_i_jk=X_i_jk_scaled, full_tensor_shape=(I,J,K), reduced_tensor_shape=(G,Q,R))\n",
    "# fc=TWFCTA(verbose=True, init='random', n_loops=5, n_max_iter=1000, tol=1e-3, B_j_q=B_j_q0, C_k_r=C_k_r0).fit(X_i_jk=X_i_jk_scaled, full_tensor_shape=(I,J,K), reduced_tensor_shape=(G,Q,R))\n",
    "X_i_jk_n = fc.X_i_jk_scaled\n",
    "Y_i_qr = X_i_jk_n@np.kron(fc.C_k_r, fc.B_j_q)\n",
    "Us.append(fc.U_i_g)\n",
    "Ygs.append(fold(fc.Y_g_qr, mode=1, shape=(R,G,Q)))\n",
    "Yis.append(fold(Y_i_qr, mode=1, shape=(R,I,Q)))\n",
    "\n",
    "pca = PCA(n_components=2)\n",
    "fig, axes = plt.subplots(2, R, figsize=(10, 10), sharex=False, sharey=False, dpi=100)\n",
    "\n",
    "fig.subplots_adjust(hspace=0.3, wspace=0.25)\n",
    "\n",
    "titles = ['TWCFTA','TWFCTA']\n",
    "\n",
    "# \n",
    "for clustering in range(2):\n",
    "\t# loop through each occasion factor\n",
    "\tfor r in range(R):\n",
    "\t\t# extract first 2 components\n",
    "\t\tcomponents = pca.fit_transform(Yis[clustering][r])  # get each X face\n",
    "\t\tcomponents = pd.DataFrame(components, columns=['Component 1', 'Component 2'])\n",
    "\t\tcomponents['cluster']=np.where(Us[clustering])[1]\n",
    "\n",
    "\t\t# plot components in subplot\n",
    "\t\tsns.scatterplot(ax=axes[clustering, r], data=components, x='Component 1', y='Component 2', hue=\"cluster\", style=\"cluster\", palette=\"deep\", s=120)\n",
    "\t\taxes[clustering, r].set_title(f'{titles[clustering]} Occasion Factor (R={r+1})', pad=10)\n",
    "\n",
    "\t\t# plotting centroids\n",
    "\t\t# if clustering > 0:\n",
    "\t\tcents = pca.fit_transform(Ygs[clustering][r])\n",
    "\t\tcents = pd.DataFrame(cents, columns=['Component 1', 'Component 2'])\n",
    "\t\tsns.scatterplot(ax=axes[clustering, r], data=cents, x='Component 1', y='Component 2', ec='red', hue=range(3), palette=[0,0,0], legend=False, s=100)\n",
    "\n",
    "\t\tplt.savefig('synthetic_Yiqr_tandem_clustering.png')"
   ]
  },
  {
   "cell_type": "code",
   "execution_count": null,
   "metadata": {},
   "outputs": [],
   "source": []
  },
  {
   "cell_type": "code",
   "execution_count": null,
   "metadata": {},
   "outputs": [],
   "source": []
  },
  {
   "cell_type": "code",
   "execution_count": null,
   "metadata": {},
   "outputs": [],
   "source": []
  },
  {
   "cell_type": "code",
   "execution_count": null,
   "metadata": {},
   "outputs": [],
   "source": []
  },
  {
   "cell_type": "code",
   "execution_count": null,
   "metadata": {},
   "outputs": [],
   "source": [
    "print(cf.Fs_km)\n",
    "print(cf.Fs_fa)\n",
    "print()\n",
    "print(fc.Fs_fa)\n",
    "print(fc.Fs_km)"
   ]
  },
  {
   "cell_type": "code",
   "execution_count": null,
   "metadata": {},
   "outputs": [],
   "source": [
    "a2l.to_ltx(fc.C_k_r, frmt = '{:6.2f}', arraytype='bmatrix')"
   ]
  },
  {
   "cell_type": "code",
   "execution_count": null,
   "metadata": {},
   "outputs": [],
   "source": [
    "Z_i_jk=cf.U_i_g0@np.linalg.inv(cf.U_i_g0.T@cf.U_i_g0)@cf.U_i_g0.T@cf.X_i_jk_scaled \n",
    "np.linalg.norm(cf.X_i_jk_scaled - Z_i_jk,2)/np.linalg.norm(cf.X_i_jk_scaled,2)"
   ]
  },
  {
   "cell_type": "code",
   "execution_count": null,
   "metadata": {},
   "outputs": [],
   "source": [
    "# Z_i_jk=fc.X_i_jk_scaled@np.kron(fc.C_k_r0@fc.C_k_r0.T, fc.B_j_q0@fc.B_j_q0.T) \n",
    "Y_g_qr=np.linalg.inv(fc.U_i_g0.T@fc.U_i_g0)@fc.U_i_g0.T @ X_i_jk_scaled @ np.kron(fc.C_k_r,fc.B_j_q)\n",
    "\n",
    "# np.linalg.norm(Z_g_jk,2)/np.linalg.norm(X_g_jk,2)\n",
    "# np.linalg.norm(cf.U_i_g@Y_g_qr,2)/np.linalg.norm(cf.X_i_jk_scaled@np.kron(cf.C_k_r,cf.B_j_q),2)\n",
    "\n",
    "np.linalg.norm(fc.U_i_g0@fc.Y_g_qr,2)/np.linalg.norm(fc.X_i_jk_scaled,2)"
   ]
  },
  {
   "cell_type": "code",
   "execution_count": null,
   "metadata": {},
   "outputs": [],
   "source": [
    "fc.B_j_q\n",
    "a2l.to_ltx(cf.C_k_r, frmt = '{:6.2f}', arraytype='bmatrix')"
   ]
  },
  {
   "cell_type": "code",
   "execution_count": null,
   "metadata": {},
   "outputs": [],
   "source": [
    "Y_i_qr0_cf = fold(np.linalg.inv(fc.U_i_g.T@fc.U_i_g)@fc.U_i_g.T@fc.X_i_jk_scaled@np.kron(fc.C_k_r, fc.B_j_q), mode=1, shape=(R,G,Q))\n",
    "a2l.to_ltx(Y_i_qr0_cf[0], frmt = '{:6.2f}', arraytype='bmatrix')\n",
    "a2l.to_ltx(Y_i_qr0_cf[1], frmt = '{:6.2f}', arraytype='bmatrix')"
   ]
  },
  {
   "cell_type": "code",
   "execution_count": null,
   "metadata": {},
   "outputs": [],
   "source": [
    "gdfg"
   ]
  },
  {
   "cell_type": "code",
   "execution_count": null,
   "metadata": {},
   "outputs": [],
   "source": [
    "# # get iterates\n",
    "# U_i_g0_cf = cf.U_i_g0\n",
    "# B_j_q0_cf = cf.B_j_q0\n",
    "# C_k_r0_cf = cf.C_k_r0\n",
    "# U_i_g_cf = cf.U_i_g\n",
    "# B_j_q_cf = cf.B_j_q\n",
    "# C_k_r_cf = cf.C_k_r\n",
    "# Y_g_qr_cf = cf.Y_g_qr\n",
    "# X_i_jk_cf = cf.X_i_jk_scaled\n",
    "# Y_i_qr_cf = cf.X_i_jk_scaled @ np.kron(C_k_r_cf, B_j_q_cf)\n",
    "\n",
    "# U_i_g0_fc = fc.U_i_g0\n",
    "# B_j_q0_fc = fc.B_j_q0\n",
    "# C_k_r0_fc = fc.C_k_r0\n",
    "# U_i_g_fc = fc.U_i_g\n",
    "# B_j_q_fc = fc.B_j_q\n",
    "# C_k_r_fc = fc.C_k_r\n",
    "# Y_g_qr_fc = fc.Y_g_qr\n",
    "# X_i_jk_fc = fc.X_i_jk_scaled\n",
    "# Y_i_qr_fc = fc.X_i_jk_scaled @ np.kron(C_k_r_fc, B_j_q_fc)\n",
    "\n",
    "# # a2l.to_ltx(U_i_g_cf, frmt = '{:6.0f}', arraytype='bmatrix')\n",
    "# # a2l.to_ltx(B_j_q0_cf, frmt = '{:6.3f}', arraytype='bmatrix')\n",
    "# # a2l.to_ltx(C_k_r0_cf, frmt = '{:6.3f}', arraytype='bmatrix')\n",
    "\n",
    "\n",
    "# # TWCFTA\n",
    "\n",
    "# # U_i_g0_cf, B_j_q0_cf, C_k_r0_cf\n",
    "# # a2l.to_ltx(U_i_g0_cf, frmt = '{:6.0f}', arraytype='bmatrix')\n",
    "\n",
    "# # init K-means\n",
    "# # X_g_jk0_cf = np.linalg.inv(U_i_g0_cf.T@U_i_g0_cf) @ U_i_g0_cf.T @ X_i_jk_cf\n",
    "# # X_g_j_k0_cf = fold(X_g_jk0_cf, mode=1, shape=(K,G,J))\n",
    "# # a2l.to_ltx(X_g_j_k0_cf[0], frmt = '{:6.3f}', arraytype='bmatrix')\n",
    "# # a2l.to_ltx(X_g_j_k0_cf[1], frmt = '{:6.3f}', arraytype='bmatrix')\n",
    "# # a2l.to_ltx(X_g_j_k0_cf[2], frmt = '{:6.3f}', arraytype='bmatrix')\n",
    "# # a2l.to_ltx(X_g_j_k0_cf[3], frmt = '{:6.3f}', arraytype='bmatrix')\n",
    "\n",
    "# # final K-means\n",
    "# # X_g_jk_cf = np.linalg.inv(U_i_g_cf.T@U_i_g_cf) @ U_i_g_cf.T @ X_i_jk_cf\n",
    "# # X_g_j_k_cf = fold(X_g_jk_cf, mode=1, shape=(K,G,J))\n",
    "# # a2l.to_ltx(X_g_j_k_cf[0], frmt = '{:6.3f}', arraytype='bmatrix')\n",
    "# # a2l.to_ltx(X_g_j_k_cf[1], frmt = '{:6.3f}', arraytype='bmatrix')\n",
    "# # a2l.to_ltx(X_g_j_k_cf[2], frmt = '{:6.3f}', arraytype='bmatrix')\n",
    "# # a2l.to_ltx(X_g_j_k_cf[3], frmt = '{:6.3f}', arraytype='bmatrix')\n",
    "\n",
    "# # init FA\n",
    "# # a2l.to_ltx(B_j_q0_cf, frmt = '{:6.2f}', arraytype='bmatrix')\n",
    "# # a2l.to_ltx(C_k_r0_cf, frmt = '{:6.2f}', arraytype='bmatrix')\n",
    "\n",
    "# # Y_g_qr0_cf = np.linalg.inv(U_i_g_cf.T@U_i_g_cf) @ U_i_g_cf.T @ cf.X_i_jk_scaled @ np.kron(C_k_r0_cf, B_j_q0_cf)\n",
    "# # Y_g_q_r0_cf = fold(Y_g_qr0_cf, mode=1, shape=(R,G,Q))\n",
    "# # a2l.to_ltx(Y_g_q_r0_cf[0], frmt = '{:6.2f}', arraytype='bmatrix')\n",
    "# # a2l.to_ltx(Y_g_q_r0_cf[1], frmt = '{:6.2f}', arraytype='bmatrix')\n",
    "\n",
    "# # Y_i_qr0_cf = cf.X_i_jk_scaled @ np.kron(C_k_r0_cf, B_j_q0_cf)\n",
    "# # Y_i_q_r0_cf = fold(Y_i_qr0_cf, mode=1, shape=(R,I,Q))\n",
    "# # a2l.to_ltx(Y_i_q_r0_cf[0], frmt = '{:6.3f}', arraytype='tabular')\n",
    "# # a2l.to_ltx(Y_i_q_r0_cf[1], frmt = '{:6.3f}', arraytype='tabular')\n",
    "\n",
    "# # final FA\n",
    "# # a2l.to_ltx(B_j_q_cf, frmt = '{:6.2f}', arraytype='bmatrix')\n",
    "# # a2l.to_ltx(C_k_r_cf, frmt = '{:6.2f}', arraytype='bmatrix')\n",
    "\n",
    "# # Y_g_qr_cf = np.linalg.inv(U_i_g_cf.T@U_i_g_cf) @ U_i_g_cf.T @ cf.X_i_jk_scaled @ np.kron(C_k_r_cf, B_j_q_cf)\n",
    "# # Y_g_q_r_cf = fold(Y_g_qr0_cf, mode=1, shape=(R,G,Q))\n",
    "# # a2l.to_ltx(Y_g_q_r_cf[0], frmt = '{:6.3f}', arraytype='bmatrix')\n",
    "# # a2l.to_ltx(Y_g_q_r_cf[1], frmt = '{:6.3f}', arraytype='bmatrix')\n",
    "\n",
    "# # Y_i_qr_cf = cf.X_i_jk_scaled @ np.kron(C_k_r_cf, B_j_q_cf)\n",
    "# # Y_i_q_r_cf = fold(Y_i_qr_cf, mode=1, shape=(R,I,Q))\n",
    "# # a2l.to_ltx(Y_i_q_r_cf[0], frmt = '{:6.3f}', arraytype='tabular')\n",
    "# # a2l.to_ltx(Y_i_q_r_cf[1], frmt = '{:6.3f}', arraytype='tabular')\n",
    "\n",
    "\n",
    "# # TWFCTA\n",
    "# # init FA\n",
    "# # a2l.to_ltx(B_j_q0_fc, frmt = '{:6.2f}', arraytype='bmatrix')\n",
    "# # a2l.to_ltx(C_k_r0_fc, frmt = '{:6.2f}', arraytype='bmatrix')\n",
    "\n",
    "# # Y_i_qr0_fc = X_i_jk_fc @ np.kron(C_k_r0_fc, B_j_q0_fc)\n",
    "# # Y_i_q_r0_fc = fold(Y_i_qr0_fc, mode=1, shape=(R,I,Q))\n",
    "# # a2l.to_ltx(Y_i_q_r0_fc[0], frmt = '{:6.3f}', arraytype='tabular')\n",
    "# # a2l.to_ltx(Y_i_q_r0_fc[1], frmt = '{:6.3f}', arraytype='tabular')\n",
    "\n",
    "# # final FA\n",
    "# # a2l.to_ltx(B_j_q_fc, frmt = '{:6.2f}', arraytype='bmatrix')\n",
    "# # a2l.to_ltx(C_k_r_fc, frmt = '{:6.2f}', arraytype='bmatrix')\n",
    "\n",
    "# # Y_i_qr_fc = X_i_jk_fc @ np.kron(C_k_r_fc, B_j_q_fc)\n",
    "# # Y_i_q_r_fc = fold(Y_i_qr_fc, mode=1, shape=(R,I,Q))\n",
    "# # a2l.to_ltx(Y_i_q_r_fc[0], frmt = '{:6.3f}', arraytype='tabular')\n",
    "# # a2l.to_ltx(Y_i_q_r_fc[1], frmt = '{:6.3f}', arraytype='tabular')\n",
    "\n",
    "# # init K-means\n",
    "# # a2l.to_ltx(U_i_g0_fc, frmt = '{:6.0f}', arraytype='bmatrix')\n",
    "\n",
    "# # Y_g_qr0_fc = np.linalg.inv(U_i_g0_fc.T@U_i_g0_fc) @ U_i_g0_fc.T @ fc.X_i_jk_scaled @ np.kron(C_k_r_fc, B_j_q_fc)\n",
    "# # Y_g_q_r0_fc = fold(Y_g_qr0_fc, mode=1, shape=(R,G,Q))\n",
    "# # a2l.to_ltx(Y_g_q_r0_fc[0], frmt = '{:6.3f}', arraytype='bmatrix')\n",
    "# # a2l.to_ltx(Y_g_q_r0_fc[1], frmt = '{:6.3f}', arraytype='bmatrix')\n",
    "\n",
    "# # final kmeans\n",
    "# # a2l.to_ltx(U_i_g_fc, frmt = '{:6.0f}', arraytype='bmatrix')\n",
    "\n",
    "# # Y_g_qr_fc = np.linalg.inv(U_i_g_fc.T@U_i_g_fc) @ U_i_g_fc.T @ fc.X_i_jk_scaled @ np.kron(C_k_r_fc, B_j_q_fc)\n",
    "# # Y_g_q_r_fc = fold(Y_g_qr_fc, mode=1, shape=(R,G,Q))\n",
    "# # a2l.to_ltx(Y_g_q_r_fc[0], frmt = '{:6.3f}', arraytype='bmatrix')\n",
    "# # a2l.to_ltx(Y_g_q_r_fc[1], frmt = '{:6.3f}', arraytype='bmatrix')\n",
    "\n",
    "\n",
    "# # a2l.to_ltx(U_i_g_fc, frmt = '{:6.0f}', arraytype='bmatrix')\n",
    "# # a2l.to_ltx(B_j_q_fc, frmt = '{:6.2f}', arraytype='bmatrix')\n",
    "# # a2l.to_ltx(C_k_r_fc, frmt = '{:6.2f}', arraytype='bmatrix')\n",
    "\n"
   ]
  },
  {
   "cell_type": "markdown",
   "metadata": {},
   "source": [
    "**Varimax Rotation**"
   ]
  },
  {
   "cell_type": "code",
   "execution_count": null,
   "metadata": {},
   "outputs": [],
   "source": [
    "# rotation and sorting of factor matrix\n",
    "rotated_C_cf, C_k_r_mem_cf, C_k_r_mem_sorted_cf, C_k_r_ind_lab_sorted_cf = sort_loadings_matrix(cf.C_k_r)\n",
    "df_C = pd.DataFrame(C_k_r_mem_sorted_cf, index=[_+1 for _ in C_k_r_ind_lab_sorted_cf.keys()], columns=range(1,R+1), dtype=int) #construct df of results\n",
    "\n",
    "rotated_B_cf, B_j_q_mem_cf, B_j_q_mem_sorted_cf, B_j_q_ind_lab_sorted_cf = sort_loadings_matrix(cf.B_j_q)\n",
    "df_B = pd.DataFrame(B_j_q_mem_sorted_cf, index=[_+1 for _ in B_j_q_ind_lab_sorted_cf.keys()], columns=range(1,Q+1), dtype=int) #construct df of results\n",
    "\n",
    "# rotation and sorting of factor matrix\n",
    "rotated_C_fc, C_k_r_mem_fc, C_k_r_mem_sorted_fc, C_k_r_ind_lab_sorted_fc = sort_loadings_matrix(fc.C_k_r)\n",
    "df_C = pd.DataFrame(C_k_r_mem_sorted_fc, index=[_+1 for _ in C_k_r_ind_lab_sorted_fc.keys()], columns=range(1,R+1), dtype=int) #construct df of results\n",
    "\n",
    "rotated_B_fc, B_j_q_mem_fc, B_j_q_mem_sorted_fc, B_j_q_ind_lab_sorted_fc = sort_loadings_matrix(fc.B_j_q)\n",
    "df_B = pd.DataFrame(B_j_q_mem_sorted_fc, index=[_+1 for _ in B_j_q_ind_lab_sorted_fc.keys()], columns=range(1,Q+1), dtype=int) #construct df of results\n",
    "\n",
    "\n",
    "# to latex rotated matrices\n",
    "# a2l.to_ltx(rotated_B_cf, frmt = '{:6.2f}', arraytype='bmatrix')\n",
    "# a2l.to_ltx(rotated_C_cf, frmt = '{:6.2f}', arraytype='bmatrix')\n",
    "\n",
    "# a2l.to_ltx(rotated_B_fc, frmt = '{:6.2f}', arraytype='bmatrix')\n",
    "# a2l.to_ltx(rotated_C_fc, frmt = '{:6.2f}', arraytype='bmatrix')\n",
    "\n",
    "# # to latex membership matrices\n",
    "# a2l.to_ltx(B_j_q_mem_cf, frmt = '{:6.0f}', arraytype='bmatrix')\n",
    "# a2l.to_ltx(C_k_r_mem_cf, frmt = '{:6.0f}', arraytype='bmatrix')\n",
    "\n",
    "# a2l.to_ltx(B_j_q_mem_fc, frmt = '{:6.0f}', arraytype='bmatrix')\n",
    "# a2l.to_ltx(C_k_r_mem_fc, frmt = '{:6.0f}', arraytype='bmatrix')\n"
   ]
  },
  {
   "cell_type": "markdown",
   "metadata": {},
   "source": [
    "**Metrics**"
   ]
  },
  {
   "cell_type": "code",
   "execution_count": null,
   "metadata": {},
   "outputs": [],
   "source": [
    "# Rand and Pseudo F metrics\n",
    "U_rand_cf = adjusted_rand_score(np.where(cf.U_i_g)[1], U_labels)\n",
    "B_rand_cf = adjusted_rand_score(np.where(B_j_q_mem_cf)[1], B_labels)\n",
    "C_rand_cf = adjusted_rand_score(np.where(C_k_r_mem_cf)[1], C_labels)\n",
    "\n",
    "U_rand_fc = adjusted_rand_score(np.where(fc.U_i_g)[1], U_labels)\n",
    "B_rand_fc = adjusted_rand_score(np.where(B_j_q_mem_fc)[1], B_labels)\n",
    "C_rand_fc = adjusted_rand_score(np.where(C_k_r_mem_fc)[1], C_labels)\n",
    "\n",
    "print('TWCFTA:', np.array([cf.TSS,cf.BSS/cf.TSS*100, cf.PseudoF, U_rand_cf, B_rand_cf, C_rand_cf]).round(3))\n",
    "print('TWFCTA:', np.array([fc.TSS,fc.BSS/fc.TSS*100, fc.PseudoF, U_rand_fc, B_rand_fc, C_rand_fc]).round(3))\n"
   ]
  },
  {
   "cell_type": "code",
   "execution_count": null,
   "metadata": {},
   "outputs": [],
   "source": []
  },
  {
   "cell_type": "markdown",
   "metadata": {},
   "source": [
    "**CT3CLUS IMPLEMENTATION**"
   ]
  },
  {
   "cell_type": "code",
   "execution_count": null,
   "metadata": {},
   "outputs": [],
   "source": [
    "# # PLOTTING THE COMPONENTS\n",
    "# plot membership matrices on the original datasets\n",
    "\n",
    "# Xs = [X_i_j_k_]\n",
    "# Us = [U_i_g_]\n",
    "# Ys = []\n",
    "\n",
    "\n",
    "# alpha=0\n",
    "# ct = CT3Clus(verbose=False, init='random', n_loops=1000, n_max_iter=100, tol=1e-3, U_i_g=U_i_g0, B_j_q=B_j_q0, C_k_r=C_k_r0).fit(X_i_jk=X_i_jk_, full_tensor_shape=(I,J,K), reduced_tensor_shape=(G,Q,R), alpha=alpha)\n",
    "# Xs.append(fold(ct.X_i_jk_scaled, mode=1, shape=(K,I,J)))\n",
    "# Us.append(ct.U_i_g)\n",
    "# Y_g_q_r = fold(ct.Y_g_qr@np.kron(ct.C_k_r,ct.B_j_q).T, mode=1, shape=(K,G,J))\n",
    "# Ys.append(Y_g_q_r)\n",
    "\n",
    "# alpha=1\n",
    "# ct = CT3Clus(verbose=False, init='random', n_loops=1000, n_max_iter=100, tol=1e-3, U_i_g=U_i_g0, B_j_q=B_j_q0, C_k_r=C_k_r0).fit(X_i_jk=X_i_jk_, full_tensor_shape=(I,J,K), reduced_tensor_shape=(G,Q,R), alpha=alpha)\n",
    "# Xs.append(fold(ct.X_i_jk_scaled, mode=1, shape=(K,I,J)))\n",
    "# Us.append(ct.U_i_g)\n",
    "# Y_g_q_r = fold(ct.Y_g_qr@np.kron(ct.C_k_r,ct.B_j_q).T, mode=1, shape=(K,G,J))\n",
    "# Ys.append(Y_g_q_r)\n",
    "\n",
    "\n",
    "# pca = PCA(n_components=2)\n",
    "# fig, axes = plt.subplots(3, K, figsize=(20, 15), sharex=True, sharey=True)\n",
    "# # fig.suptitle('Pokemon Stats by Generation')\n",
    "\n",
    "# titles = ['Real','3FKMeans','T3Clus']\n",
    "\n",
    "# # \n",
    "# for clustering in range(3):\n",
    "# \t# loop through each occasion\n",
    "# \tfor k in range(K):\n",
    "# \t\t# extract first 2 components\n",
    "# \t\tcomponents = pca.fit_transform(Xs[clustering][k])  # get each X face\n",
    "# \t\tcomponents = pd.DataFrame(components, columns=['Component 1', 'Component 2'])\n",
    "# \t\tcomponents['cluster']=np.where(Us[clustering])[1]\n",
    "\n",
    "# \t\t# plot components in subplot\n",
    "# \t\tsns.scatterplot(ax=axes[clustering, k], data=components, x='Component 1', y='Component 2', hue=\"cluster\", style=\"cluster\", palette=\"deep\", s=70)\n",
    "# \t\taxes[clustering, k].set_title(f'{titles[clustering]} Occasion {k+1}')\n",
    "\n",
    "# \t\t# plotting centroids\n",
    "# \t\tif clustering > 0:\n",
    "# \t\t\tcents = pca.fit_transform(Ys[clustering-1][k])\n",
    "# \t\t\tcents = pd.DataFrame(cents, columns=['Component 1', 'Component 2'])\n",
    "# \t\t\tsns.scatterplot(ax=axes[clustering, k], data=cents, x='Component 1', y='Component 2', ec='black', hue=range(3), palette=[0,0,0], legend=False)\n",
    "\n",
    "# \t\tplt.savefig('synthetic_after_iteration1000.png')\n"
   ]
  },
  {
   "cell_type": "code",
   "execution_count": null,
   "metadata": {},
   "outputs": [],
   "source": [
    "# PLOTTING THE COMPONENTS\n",
    "\n",
    "Xs = []\n",
    "Us = []\n",
    "Yis = []\n",
    "Ygs = []\n",
    "\n",
    "\n",
    "alpha=0\n",
    "ct0 = CT3Clus(verbose=True, init='random', n_loops=5000, n_max_iter=100, tol=5e-3).fit(X_i_jk=X_i_jk_, full_tensor_shape=(I,J,K), reduced_tensor_shape=(G,Q,R), alpha=alpha)\n",
    "# ct0 = CT3Clus(verbose=True, init='random', n_loops=1, n_max_iter=1000, tol=1e-3, U_i_g=U_i_g0, B_j_q=B_j_q0, C_k_r=C_k_r0).fit(X_i_jk=X_i_jk_, full_tensor_shape=(I,J,K), reduced_tensor_shape=(G,Q,R), alpha=alpha)\n",
    "# ct0 = CT3Clus(verbose=False, init='random', n_loops=1000, n_max_iter=10, tol=1e-3).fit(X_i_jk=X_i_jk_, full_tensor_shape=(I,J,K), reduced_tensor_shape=(G,Q,R), alpha=alpha)\n",
    "X_i_jk_n = ct0.X_i_jk_scaled\n",
    "Y_i_qr = X_i_jk_n@np.kron(ct0.C_k_r, ct0.B_j_q)\n",
    "Us.append(ct0.U_i_g)\n",
    "Ygs.append(fold(ct0.Y_g_qr, mode=1, shape=(R,G,Q)))\n",
    "Yis.append(fold(Y_i_qr, mode=1, shape=(R,I,Q)))\n",
    "\n",
    "\n",
    "alpha=1\n",
    "ct1 = CT3Clus(verbose=True, init='random', n_loops=5000, n_max_iter=100, tol=5e-3).fit(X_i_jk=X_i_jk_, full_tensor_shape=(I,J,K), reduced_tensor_shape=(G,Q,R), alpha=alpha)\n",
    "# ct1 = CT3Clus(verbose=True, init='random', n_loops=1, n_max_iter=1000, tol=1e-3, U_i_g=U_i_g0, B_j_q=B_j_q0, C_k_r=C_k_r0).fit(X_i_jk=X_i_jk_, full_tensor_shape=(I,J,K), reduced_tensor_shape=(G,Q,R), alpha=alpha)\n",
    "# ct1 = CT3Clus(verbose=False, init='random', n_loops=1000, n_max_iter=10, tol=1e-3).fit(X_i_jk=X_i_jk_, full_tensor_shape=(I,J,K), reduced_tensor_shape=(G,Q,R), alpha=alpha)\n",
    "X_i_jk_n = ct1.X_i_jk_scaled\n",
    "Y_i_qr = X_i_jk_n@np.kron(ct1.C_k_r, ct1.B_j_q)\n",
    "Us.append(ct1.U_i_g)\n",
    "Ygs.append(fold(ct1.Y_g_qr, mode=1, shape=(R,G,Q)))\n",
    "Yis.append(fold(Y_i_qr, mode=1, shape=(R,I,Q)))\n",
    "\n",
    "pca = PCA(n_components=2)\n",
    "fig, axes = plt.subplots(2, R, figsize=(10, 10), sharex=False, sharey=False, dpi=100)\n",
    "# fig.suptitle('Pokemon Stats by Generation')\n",
    "\n",
    "fig.subplots_adjust(hspace=0.25, wspace=0.25)\n",
    "\n",
    "titles = ['3FKMeans','T3Clus']\n",
    "\n",
    "# \n",
    "for clustering in range(2):\n",
    "\t# loop through each occasion factor\n",
    "\tfor r in range(R):\n",
    "\t\t# extract first 2 components\n",
    "\t\tcomponents = pca.fit_transform(Yis[clustering][r])  # get each X face\n",
    "\t\tcomponents = pd.DataFrame(components, columns=['Component 1', 'Component 2'])\n",
    "\t\tcomponents['cluster']=np.where(Us[clustering])[1]\n",
    "\n",
    "\t\t# plot components in subplot\n",
    "\t\tsns.scatterplot(ax=axes[clustering, r], data=components, x='Component 1', y='Component 2', hue=\"cluster\", style=\"cluster\", palette=\"deep\", s=120)\n",
    "\t\taxes[clustering, r].set_title(f'{titles[clustering]} Occasion Factor (R={r+1})')\n",
    "\n",
    "\t\t# plotting centroids\n",
    "\t\t# if clustering > 0:\n",
    "\t\tcents = pca.fit_transform(Ygs[clustering][r])\n",
    "\t\tcents = pd.DataFrame(cents, columns=['Component 1', 'Component 2'])\n",
    "\t\tsns.scatterplot(ax=axes[clustering, r], data=cents, x='Component 1', y='Component 2', ec='red', hue=range(3), palette=[0,0,0], legend=False, s=100)\n",
    "\n",
    "\t\tplt.savefig('synthetic_after_iterationYs.png')"
   ]
  },
  {
   "cell_type": "code",
   "execution_count": null,
   "metadata": {},
   "outputs": [],
   "source": [
    "pca = PCA(n_components=2)\n",
    "fig, axes = plt.subplots(2, R, figsize=(10, 10), sharex=False, sharey=False, dpi=100)\n",
    "# fig.suptitle('Pokemon Stats by Generation')\n",
    "\n",
    "fig.subplots_adjust(hspace=0.3, wspace=0.25)\n",
    "\n",
    "titles = ['3FKMeans','T3Clus']\n",
    "\n",
    "# \n",
    "for clustering in range(2):\n",
    "\t# loop through each occasion factor\n",
    "\tfor r in range(R):\n",
    "\t\t# extract first 2 components\n",
    "\t\tcomponents = pca.fit_transform(Yis[clustering][r])  # get each X face\n",
    "\t\tcomponents = pd.DataFrame(components, columns=['Component 1', 'Component 2'])\n",
    "\t\tcomponents['cluster']=np.where(Us[clustering])[1]\n",
    "\n",
    "\t\t# plot components in subplot\n",
    "\t\tsns.scatterplot(ax=axes[clustering, r], data=components, x='Component 1', y='Component 2', hue=\"cluster\", style=\"cluster\", palette=\"deep\", s=120)\n",
    "\t\taxes[clustering, r].set_title(f'{titles[clustering]} Occasion Factor (R={r+1})')\n",
    "\n",
    "\t\t# plotting centroids\n",
    "\t\t# if clustering > 0:\n",
    "\t\tcents = pca.fit_transform(Ygs[clustering][r])\n",
    "\t\tcents = pd.DataFrame(cents, columns=['Component 1', 'Component 2'])\n",
    "\t\tsns.scatterplot(ax=axes[clustering, r], data=cents, x='Component 1', y='Component 2', ec='red', hue=range(3), palette=[0,0,0], legend=False, s=100)\n",
    "\n",
    "\t\tplt.savefig('synthetic_after_iterationYs.png')"
   ]
  },
  {
   "cell_type": "code",
   "execution_count": null,
   "metadata": {},
   "outputs": [],
   "source": [
    "# # BSS percent\n",
    "print('3FKMeans',ct0.BSS/ct0.TSS)\n",
    "print('CT3Clus',ct1.BSS/ct1.TSS)"
   ]
  },
  {
   "cell_type": "code",
   "execution_count": null,
   "metadata": {},
   "outputs": [],
   "source": [
    "print('ct0',ct0.Fs)\n",
    "print('ct1',ct1.Fs)"
   ]
  },
  {
   "cell_type": "code",
   "execution_count": null,
   "metadata": {},
   "outputs": [],
   "source": [
    "ct0.B_j_q"
   ]
  },
  {
   "cell_type": "code",
   "execution_count": null,
   "metadata": {},
   "outputs": [],
   "source": [
    "a2l.to_ltx(ct1.B_j_q, frmt = '{:6.2f}', arraytype='bmatrix')"
   ]
  },
  {
   "cell_type": "code",
   "execution_count": null,
   "metadata": {},
   "outputs": [],
   "source": [
    "# F0_ct0=np.linalg.norm(X_i_jk_N_ct0-U_i_g0_ct0@Y_g_qr0_ct0@np.kron(C_k_r0_ct0, B_j_q0_ct0).T,2)\n",
    "# F0_ct1=np.linalg.norm(X_i_jk_N_ct1-U_i_g0_ct1@Y_g_qr0_ct1@np.kron(C_k_r0_ct1, B_j_q0_ct1).T,2)\n",
    "\n",
    "# TSS0_ct0 = ((Y_i_qr0_ct0).var()*(Y_i_qr0_ct0).size)\n",
    "# TSS0_ct1 = ((Y_i_qr0_ct1).var()*(Y_i_qr0_ct1).size)\n",
    "# BSS0_ct0 = ((U_i_g0_ct0@Y_g_qr0_ct0).var()*(U_i_g0_ct0@Y_g_qr0_ct0).size)\n",
    "# BSS0_ct1 = ((U_i_g0_ct1@Y_g_qr0_ct1).var()*(U_i_g0_ct1@Y_g_qr0_ct1).size)\n",
    "# BSS0_ct0_per = BSS0_ct0/TSS0_ct0\n",
    "# BSS0_ct1_per = BSS0_ct1/TSS0_ct1\n",
    "\n",
    "# PF0 = PseudoF(BSS0_ct0, TSS0_ct0-BSS0_ct0, full_tensor_shape=(I,J,K), reduced_tensor_shape=(G,Q,R))\n",
    "# PF1 = PseudoF(BSS0_ct1, TSS0_ct1-BSS0_ct1, full_tensor_shape=(I,J,K), reduced_tensor_shape=(G,Q,R))\n",
    "\n",
    "# print(\"ct0:\",F0_ct0,TSS0_ct0,BSS0_ct0,BSS0_ct0_per,PF0)\n",
    "# print(\"ct1:\",F0_ct1,TSS0_ct1,BSS0_ct1,BSS0_ct1_per,PF1)\n",
    "\n",
    "# F_ct0=np.linalg.norm(X_i_jk_N_ct0-U_i_g_ct0@Y_g_qr_ct0@np.kron(C_k_r_ct0, B_j_q_ct0).T,2)\n",
    "# F_ct1=np.linalg.norm(X_i_jk_N_ct1-U_i_g_ct1@Y_g_qr_ct1@np.kron(C_k_r_ct1, B_j_q_ct1).T,2)\n",
    "\n",
    "# TSS_ct0 = ((Y_i_qr_ct0).var()*(Y_i_qr_ct0).size)\n",
    "# TSS_ct1 = ((Y_i_qr_ct1).var()*(Y_i_qr_ct1).size)\n",
    "# BSS_ct0 = ((U_i_g_ct0@Y_g_qr_ct0).var()*(U_i_g_ct0@Y_g_qr_ct0).size)\n",
    "# BSS_ct1 = ((U_i_g_ct1@Y_g_qr_ct1).var()*(U_i_g_ct1@Y_g_qr_ct1).size)\n",
    "# BSS_ct0_per = BSS_ct0/TSS_ct0\n",
    "# BSS_ct1_per = BSS_ct1/TSS_ct1\n",
    "\n",
    "# PF0 = PseudoF(BSS_ct0, TSS_ct0-BSS_ct0, full_tensor_shape=(I,J,K), reduced_tensor_shape=(G,Q,R))\n",
    "# PF1 = PseudoF(BSS_ct1, TSS_ct1-BSS_ct1, full_tensor_shape=(I,J,K), reduced_tensor_shape=(G,Q,R))\n",
    "# print(\"ct0:\", F_ct0, TSS_ct0, BSS_ct0, BSS_ct0_per, PF0)\n",
    "# print(\"ct1:\", F_ct1, TSS_ct1, BSS_ct1, BSS_ct1_per, PF1)\n"
   ]
  },
  {
   "cell_type": "code",
   "execution_count": null,
   "metadata": {},
   "outputs": [],
   "source": [
    "# # 3FKMEANS\n",
    "# P = np.kron(ct0.C_k_r0 @ ct0.C_k_r0.T, ct0.B_j_q0 @ ct0.B_j_q0.T)\n",
    "# X_i_jk0_ct0 = X_i_jk_scaled @ (P + (alpha**0.5)*(I_jk_jk-P) )\n",
    "# Z_i_jk0_ct0 = ct0.U_i_g0 @ np.linalg.inv(ct0.U_i_g0.T@ct0.U_i_g0) @ ct0.U_i_g0.T @ X_i_jk0_ct0 @ np.kron(ct0.C_k_r0@ct0.C_k_r0.T, ct0.B_j_q0@ct0.B_j_q0.T)\n",
    "# F0_ct0 = np.linalg.norm(X_i_jk0_ct0-Z_i_jk0_ct0,2)\n",
    "\n",
    "# Y_g_qr0_ct0 = np.linalg.inv(ct0.U_i_g0.T@ct0.U_i_g0) @ ct0.U_i_g0.T @ X_i_jk0_ct0 @ np.kron(ct0.C_k_r0, ct0.B_j_q0)\n",
    "# Z_i_qr0_ct0 = ct0.U_i_g0 @ Y_g_qr0_ct0\n",
    "# Y_i_qr0_ct0 = X_i_jk0_ct0 @ np.kron(ct0.C_k_r0, ct0.B_j_q0)\n",
    "# BSS0_ct0 = Z_i_qr0_ct0.var()*Z_i_qr0_ct0.size\n",
    "# TSS0_ct0 = Y_i_qr0_ct0.var()*Y_i_qr0_ct0.size\n",
    "# BSS0_ct0_per = BSS0_ct0/TSS0_ct0\n",
    "\n",
    "# P = np.kron(ct0.C_k_r @ ct0.C_k_r.T, ct0.B_j_q @ ct0.B_j_q.T)\n",
    "# X_i_jk_ct0 = X_i_jk_scaled @ (P + (alpha**0.5)*(I_jk_jk-P) )\n",
    "# Z_i_jk_ct0 = ct0.U_i_g @ np.linalg.inv(ct0.U_i_g.T@ct0.U_i_g) @ ct0.U_i_g.T @ X_i_jk_ct0 @ np.kron(ct0.C_k_r@ct0.C_k_r.T, ct0.B_j_q@ct0.B_j_q.T)\n",
    "# F_ct0 = np.linalg.norm(X_i_jk_ct0-Z_i_jk_ct0,2)\n",
    "\n",
    "# Y_g_qr_ct0 = np.linalg.inv(ct0.U_i_g.T@ct0.U_i_g) @ ct0.U_i_g.T @ X_i_jk_ct0 @ np.kron(ct0.C_k_r, ct0.B_j_q)\n",
    "# Z_i_qr_ct0 = ct0.U_i_g @ Y_g_qr_ct0\n",
    "# Y_i_qr_ct0 = X_i_jk_ct0 @ np.kron(ct0.C_k_r, ct0.B_j_q)\n",
    "# BSS_ct0 = Z_i_qr_ct0.var()*Z_i_qr_ct0.size\n",
    "# TSS_ct0 = Y_i_qr_ct0.var()*Y_i_qr_ct0.size\n",
    "# BSS_ct0_per = BSS_ct0/TSS_ct0\n",
    "\n",
    "# # T3CLUS\n",
    "# P = np.kron(ct1.C_k_r0 @ ct1.C_k_r0.T, ct1.B_j_q0 @ ct1.B_j_q0.T)\n",
    "# X_i_jk0_ct1 = X_i_jk_scaled @ (P + (alpha**0.5)*(I_jk_jk-P) )\n",
    "# Z_i_jk0_ct1 = ct1.U_i_g0 @ np.linalg.inv(ct1.U_i_g0.T@ct1.U_i_g0) @ ct1.U_i_g0.T @ X_i_jk0_ct1 @ np.kron(ct1.C_k_r0@ct1.C_k_r0.T, ct1.B_j_q0@ct1.B_j_q0.T)\n",
    "# F0_ct1 = np.linalg.norm(X_i_jk0_ct1-Z_i_jk0_ct1,2)\n",
    "\n",
    "# Y_g_qr0_ct1 = np.linalg.inv(ct1.U_i_g0.T@ct1.U_i_g0) @ ct1.U_i_g0.T @ X_i_jk0_ct1 @ np.kron(ct1.C_k_r0, ct1.B_j_q0)\n",
    "# Z_i_qr0_ct1 = ct1.U_i_g0 @ Y_g_qr0_ct1\n",
    "# Y_i_qr0_ct1 = X_i_jk0_ct1 @ np.kron(ct1.C_k_r0, ct1.B_j_q0)\n",
    "# BSS0_ct1 = Z_i_qr0_ct1.var()*Z_i_qr0_ct1.size\n",
    "# TSS0_ct1 = Y_i_qr0_ct1.var()*Y_i_qr0_ct1.size\n",
    "# BSS0_ct1_per = BSS0_ct1/TSS0_ct1\n",
    "\n",
    "# P = np.kron(ct1.C_k_r @ ct1.C_k_r.T, ct1.B_j_q @ ct1.B_j_q.T)\n",
    "# X_i_jk_ct1 = X_i_jk_scaled @ (P + (alpha**0.5)*(I_jk_jk-P) )\n",
    "# Z_i_jk_ct1 = ct1.U_i_g @ np.linalg.inv(ct1.U_i_g.T@ct1.U_i_g) @ ct1.U_i_g.T @ X_i_jk_ct1 @ np.kron(ct1.C_k_r@ct1.C_k_r.T, ct1.B_j_q@ct1.B_j_q.T)\n",
    "# F_ct1 = np.linalg.norm(X_i_jk_ct1-Z_i_jk_ct1,2)\n",
    "\n",
    "# Y_g_qr_ct1 = np.linalg.inv(ct1.U_i_g.T@ct1.U_i_g) @ ct1.U_i_g.T @ X_i_jk_ct1 @ np.kron(ct1.C_k_r, ct1.B_j_q)\n",
    "# Z_i_qr_ct1 = ct1.U_i_g @ Y_g_qr_ct1\n",
    "# Y_i_qr_ct1 = X_i_jk_ct1 @ np.kron(ct1.C_k_r, ct1.B_j_q)\n",
    "# BSS_ct1 = Z_i_qr_ct1.var()*Z_i_qr_ct1.size\n",
    "# TSS_ct1 = Y_i_qr_ct1.var()*Y_i_qr_ct1.size\n",
    "# BSS_ct1_per = BSS_ct1/TSS_ct1\n",
    "\n",
    "# PF0_ct0 = PseudoF(BSS0_ct0, TSS0_ct0-BSS0_ct0, full_tensor_shape=(I,J,K), reduced_tensor_shape=(G,Q,R))\n",
    "# PF0_ct1 = PseudoF(BSS0_ct1, TSS0_ct1-BSS0_ct1, full_tensor_shape=(I,J,K), reduced_tensor_shape=(G,Q,R))\n",
    "\n",
    "# PF_ct0 = PseudoF(BSS_ct0, TSS_ct0-BSS_ct0, full_tensor_shape=(I,J,K), reduced_tensor_shape=(G,Q,R))\n",
    "# PF_ct1 = PseudoF(BSS_ct1, TSS_ct1-BSS_ct1, full_tensor_shape=(I,J,K), reduced_tensor_shape=(G,Q,R))\n",
    "\n",
    "# print()\n",
    "# print(\"ct0:\", np.array([F0_ct0, F_ct0, TSS0_ct0, TSS_ct0, BSS0_ct0_per, BSS_ct0_per, PF0_ct0, PF_ct0]).round(5))\n",
    "# print(\"ct1:\", np.array([F0_ct1, F_ct1, TSS0_ct1, TSS_ct1, BSS0_ct1_per, BSS_ct1_per, PF0_ct1, PF_ct1]).round(5))\n",
    "\n",
    "\n",
    "# Y_g_q_r_ct0 = fold(ct1.Y_g_qr, mode=1, shape=(R,G,Q))\n",
    "# a2l.to_ltx(Y_g_q_r_ct0[0], frmt = '{:6.2f}', arraytype='bmatrix')\n",
    "# a2l.to_ltx(Y_g_q_r_ct0[1], frmt = '{:6.2f}', arraytype='bmatrix')\n",
    "\n",
    "# # Y_g_q_r_ct1 = fold(ct1.Y_g_qr, mode=1, shape=(R,G,Q))\n",
    "# # a2l.to_ltx(Y_g_q_r_ct1[0], frmt = '{:6.3f}', arraytype='bmatrix')\n",
    "# # a2l.to_ltx(Y_g_q_r_ct1[1], frmt = '{:6.3f}', arraytype='bmatrix')\n",
    "\n",
    "# Y_i_q_r_ct0= fold(ct1.X_i_jk_scaled@np.kron(ct1.C_k_r, ct1.B_j_q), mode=1, shape=(R,I,Q))\n",
    "# a2l.to_ltx(Y_i_q_r_ct0[0], frmt = '{:6.3f}', arraytype='tabular')\n",
    "# a2l.to_ltx(Y_i_q_r_ct0[1], frmt = '{:6.3f}', arraytype='tabular')\n",
    "\n",
    "# # Y_i_q_r_ct1 = fold(ct1.X_i_jk_scaled@np.kron(ct1.C_k_r, ct1.B_j_q), mode=1, shape=(R,I,Q))\n",
    "# # a2l.to_ltx(Y_i_q_r_ct1[0], frmt = '{:6.3f}', arraytype='tabular')\n",
    "# # a2l.to_ltx(Y_i_q_r_ct1[1], frmt = '{:6.3f}', arraytype='tabular')\n"
   ]
  },
  {
   "cell_type": "code",
   "execution_count": null,
   "metadata": {},
   "outputs": [],
   "source": [
    "alpha=1\n",
    "C = ct1.C_k_r\n",
    "B = ct1.B_j_q\n",
    "U = ct1.U_i_g\n",
    "I_jk_jk = np.eye(J*K)\n",
    "\n",
    "P = np.kron(C@C.T, B@B.T)\n",
    "X_N = X_i_jk_scaled @ (P + (alpha**0.5)*(I_jk_jk-P) )\n",
    "# Y_i = X_N@np.kron(C, B)\n",
    "\n",
    "Y_i=fold(X_N@np.kron(C, B), mode=1, shape=(R,I,Q))\n",
    "Y_i=fold(ct0.Y_g_qr, mode=1, shape=(R,G,Q))\n",
    "a2l.to_ltx(Y_i[0], frmt = '{:6.2f}', arraytype='bmatrix')\n",
    "a2l.to_ltx(Y_i[1], frmt = '{:6.2f}', arraytype='bmatrix')\n",
    "\n",
    "# Z_i = U@np.linalg.inv(U.T@U)@U.T@X_N@np.kron(C,B)\n",
    "# Y_i = X_N @np.kron(C,B)\n",
    "# (Z_i.var()*Z_i.size)/(Y_i.var()*Y_i.size)\n"
   ]
  },
  {
   "cell_type": "code",
   "execution_count": null,
   "metadata": {},
   "outputs": [],
   "source": [
    "Z_i.var()*Z_i.size"
   ]
  },
  {
   "cell_type": "code",
   "execution_count": null,
   "metadata": {},
   "outputs": [],
   "source": [
    "Y_i.var()*Y_i.size"
   ]
  },
  {
   "cell_type": "code",
   "execution_count": null,
   "metadata": {},
   "outputs": [],
   "source": [
    "ct1.BestLoop"
   ]
  },
  {
   "cell_type": "code",
   "execution_count": null,
   "metadata": {},
   "outputs": [],
   "source": [
    "BSS = (Z_i.var()*Z_i.size)\n",
    "TSS = (Y_i.var()*Y_i.size)\n",
    "RSS = TSS-BSS\n",
    "PseudoF(BSS,RSS,full_tensor_shape=(I,J,K),reduced_tensor_shape=(G,Q,R))"
   ]
  },
  {
   "cell_type": "code",
   "execution_count": null,
   "metadata": {},
   "outputs": [],
   "source": [
    "a2l.to_ltx(ct0.B_j_q, frmt = '{:6.2f}', arraytype='bmatrix')"
   ]
  },
  {
   "cell_type": "code",
   "execution_count": null,
   "metadata": {},
   "outputs": [],
   "source": [
    "ct1.U_i_g"
   ]
  },
  {
   "cell_type": "code",
   "execution_count": null,
   "metadata": {},
   "outputs": [],
   "source": [
    "ct1.BestLoop"
   ]
  },
  {
   "cell_type": "code",
   "execution_count": null,
   "metadata": {},
   "outputs": [],
   "source": []
  },
  {
   "cell_type": "markdown",
   "metadata": {},
   "source": [
    "**Varimax Rotation**"
   ]
  },
  {
   "cell_type": "code",
   "execution_count": null,
   "metadata": {},
   "outputs": [],
   "source": [
    "# rotation and sorting of factor matrix\n",
    "rotated_C_ct0, C_k_r_mem_ct0, C_k_r_mem_sorted_ct0, C_k_r_ind_lab_sorted_ct0 = sort_loadings_matrix(ct0.C_k_r)\n",
    "df_C = pd.DataFrame(C_k_r_mem_sorted_ct0, index=[_+1 for _ in C_k_r_ind_lab_sorted_ct0.keys()], columns=range(1,R+1), dtype=int) #construct df of results\n",
    "\n",
    "rotated_B_ct0, B_j_q_mem_ct0, B_j_q_mem_sorted_ct0, B_j_q_ind_lab_sorted_ct0 = sort_loadings_matrix(ct0.B_j_q)\n",
    "df_B = pd.DataFrame(B_j_q_mem_sorted_ct0, index=[_+1 for _ in B_j_q_ind_lab_sorted_ct0.keys()], columns=range(1,Q+1), dtype=int) #construct df of results\n",
    "\n",
    "# rotation and sorting of factor matrix\n",
    "rotated_C_ct1, C_k_r_mem_ct1, C_k_r_mem_sorted_ct1, C_k_r_ind_lab_sorted_ct1 = sort_loadings_matrix(ct1.C_k_r)\n",
    "df_C = pd.DataFrame(C_k_r_mem_sorted_ct1, index=[_+1 for _ in C_k_r_ind_lab_sorted_ct1.keys()], columns=range(1,R+1), dtype=int) #construct df of results\n",
    "\n",
    "rotated_B_ct1, B_j_q_mem_ct1, B_j_q_mem_sorted_ct1, B_j_q_ind_lab_sorted_ct1 = sort_loadings_matrix(ct1.B_j_q)\n",
    "df_B = pd.DataFrame(B_j_q_mem_sorted_ct1, index=[_+1 for _ in B_j_q_ind_lab_sorted_ct1.keys()], columns=range(1,Q+1), dtype=int) #construct df of results\n",
    "\n",
    "\n",
    "# # to latex rotated matrices\n",
    "# a2l.to_ltx(rotated_B_ct0, frmt = '{:6.2f}', arraytype='bmatrix')\n",
    "# a2l.to_ltx(rotated_C_ct0, frmt = '{:6.2f}', arraytype='bmatrix')\n",
    "\n",
    "# a2l.to_ltx(rotated_B_ct1, frmt = '{:6.2f}', arraytype='bmatrix')\n",
    "# a2l.to_ltx(rotated_C_ct1, frmt = '{:6.2f}', arraytype='bmatrix')\n",
    "\n",
    "# # to latex membership matrices\n",
    "# a2l.to_ltx(B_j_q_mem_ct0, frmt = '{:6.0f}', arraytype='bmatrix')\n",
    "# a2l.to_ltx(C_k_r_mem_ct0, frmt = '{:6.0f}', arraytype='bmatrix')\n",
    "\n",
    "# a2l.to_ltx(B_j_q_mem_ct1, frmt = '{:6.0f}', arraytype='bmatrix')\n",
    "a2l.to_ltx(C_k_r_mem_ct1, frmt = '{:6.0f}', arraytype='bmatrix')\n"
   ]
  },
  {
   "cell_type": "markdown",
   "metadata": {},
   "source": [
    "**Metrics**"
   ]
  },
  {
   "cell_type": "code",
   "execution_count": null,
   "metadata": {},
   "outputs": [],
   "source": [
    "# Rand and Pseudo F metrics\n",
    "U_rand_ct0 = adjusted_rand_score(np.where(ct0.U_i_g)[1], U_labels)\n",
    "B_rand_ct0 = adjusted_rand_score(np.where(B_j_q_mem_ct0)[1], B_labels)\n",
    "C_rand_ct0 = adjusted_rand_score(np.where(C_k_r_mem_ct0)[1], C_labels)\n",
    "\n",
    "U_rand_ct1 = adjusted_rand_score(np.where(ct1.U_i_g)[1], U_labels)\n",
    "B_rand_ct1 = adjusted_rand_score(np.where(B_j_q_mem_ct1)[1], B_labels)\n",
    "C_rand_ct1 = adjusted_rand_score(np.where(C_k_r_mem_ct1)[1], C_labels)\n",
    "\n",
    "print('CT1:', np.array([ct1.TSS,ct1.BSS/ct1.TSS*100, ct1.PseudoF, U_rand_ct1, B_rand_ct1, C_rand_ct1]).round(4))\n",
    "print('CT0:', np.array([ct0.TSS,ct0.BSS/ct0.TSS*100, ct0.PseudoF, U_rand_ct0, B_rand_ct0, C_rand_ct0]).round(4))"
   ]
  },
  {
   "cell_type": "code",
   "execution_count": null,
   "metadata": {},
   "outputs": [],
   "source": [
    "a2l.to_ltx(ct1.Y_g_qr, frmt = '{:6.2f}', arraytype='bmatrix')\n"
   ]
  },
  {
   "cell_type": "code",
   "execution_count": null,
   "metadata": {},
   "outputs": [],
   "source": [
    "fc.Fs_km"
   ]
  },
  {
   "cell_type": "code",
   "execution_count": null,
   "metadata": {},
   "outputs": [],
   "source": [
    "xfxzd"
   ]
  },
  {
   "cell_type": "code",
   "execution_count": null,
   "metadata": {},
   "outputs": [],
   "source": [
    "# initial\n",
    "print(cf.B_j_q0)\n",
    "print()\n",
    "print(fc.B_j_q0)"
   ]
  },
  {
   "cell_type": "code",
   "execution_count": null,
   "metadata": {},
   "outputs": [],
   "source": [
    "print(cf.B_j_q)\n",
    "print()\n",
    "print(fc.B_j_q)"
   ]
  },
  {
   "cell_type": "code",
   "execution_count": null,
   "metadata": {},
   "outputs": [],
   "source": [
    "print(ct1.B_j_q0)\n",
    "print()\n",
    "print(ct0.B_j_q0)"
   ]
  },
  {
   "cell_type": "code",
   "execution_count": null,
   "metadata": {},
   "outputs": [],
   "source": [
    "print(ct1.B_j_q)\n",
    "print()\n",
    "print(ct0.B_j_q)"
   ]
  },
  {
   "cell_type": "code",
   "execution_count": null,
   "metadata": {},
   "outputs": [],
   "source": [
    "# choosing Q factors\n",
    "eigs = (C_k_r**2).sum(axis=0)\n",
    "eigs"
   ]
  },
  {
   "cell_type": "code",
   "execution_count": null,
   "metadata": {},
   "outputs": [],
   "source": [
    "# communality of variables\n",
    "# The communalities are the variances captured by the model and the specific variance are the error terms\n",
    "# The factor analysis model  requires k(m+1) elements; i.e. the number of parameters in L (namely km) plus the number of elements in X = μ + LY + ε (namely k).\n",
    "\n",
    "# Thus, we desire a value for m such that k(m+1) ≤ k(k+1)/2, i.e. m ≤ (k–1)/2. For Example 1 of Factor Extraction, we are looking for m ≤ (k–1)/2 = (9–1)/2 = 4.\n",
    "# Our preference is to use fewer than 4 factors if possible.\n",
    "\n",
    "# Examine the communality values to assess how well each variable is explained by the factors. The closer the communality is to 1, the better the variable is explained by the factors.\n",
    "\n",
    "communality = ((C_k_r**2).sum(axis=1, keepdims=True))\n",
    "specifity = 1 - communality\n",
    "print(tabulate(zip(range(len(communality)), communality, specifity), headers=['Variable', 'Communality', 'Specifity']))"
   ]
  },
  {
   "cell_type": "code",
   "execution_count": null,
   "metadata": {},
   "outputs": [],
   "source": [
    "sns.scatterplot(B_j_q[:,0], B_j_q[:,1], x=\"Faactor 1\", y=\"Factor 2\", palette=\"deep\", sizes=(20, 200), legend=\"full\")"
   ]
  },
  {
   "cell_type": "code",
   "execution_count": null,
   "metadata": {},
   "outputs": [],
   "source": [
    "sns.scatterplot(C_k_r[:,0], C_k_r[:,1], x=\"Faactor 1\", y=\"Factor 2\", palette=\"deep\", sizes=(20, 200), legend=\"full\")"
   ]
  },
  {
   "cell_type": "code",
   "execution_count": null,
   "metadata": {},
   "outputs": [],
   "source": [
    "from numpy import eye, asarray, dot, diag\n",
    "from numpy.linalg import svd\n",
    "\n",
    "\n",
    "\n",
    "# comps = B_j_q\n",
    "# rot_comps = rotate(comps)\n",
    "\n",
    "# print(\"Original components dimension {}\".format(comps.shape))\n",
    "# print(\"Component norms\")\n",
    "# print(np.sum(comps**2, axis=0))\n",
    "\n",
    "# print(\"Rotated components dimension {}\".format(rot_comps.shape))\n",
    "# print(\"Rotated component norms\")\n",
    "# print(np.sum(rot_comps**2, axis=0))\n",
    "# rot_comps.round(2)"
   ]
  },
  {
   "cell_type": "code",
   "execution_count": null,
   "metadata": {},
   "outputs": [],
   "source": [
    "# variance distribution of factors\n",
    "eigVals = ((C_k_r**2).sum(axis=0))\n",
    "var_percent = eigVals/eigVals.sum()\n",
    "cummu_var = [var_percent[:_+1].sum() for _ in range(len(var_percent))]\n",
    "print(tabulate(zip(eigVals, var_percent, cummu_var), headers=['EigValue', 'Variance (%)', 'Cummulative Sum']))"
   ]
  },
  {
   "cell_type": "code",
   "execution_count": null,
   "metadata": {},
   "outputs": [],
   "source": [
    "plt.plot(cummu_var)"
   ]
  },
  {
   "cell_type": "code",
   "execution_count": null,
   "metadata": {},
   "outputs": [],
   "source": [
    "sdsad"
   ]
  },
  {
   "cell_type": "code",
   "execution_count": null,
   "metadata": {},
   "outputs": [],
   "source": [
    "fig = plt.figure(figsize=(8,8))\n",
    "ax = fig.add_subplot(projection='3d')\n",
    "\n",
    "c = ['r']\n",
    "ax.scatter(rot_sc.round(2)[:,0], rot_sc.round(2)[:,1], rot_sc.round(2)[:,2], c=c)\n",
    "\n",
    "ax.set_xlabel('F1')\n",
    "ax.set_ylabel('F2')\n",
    "ax.set_zlabel('F3')\n",
    "\n",
    "plt.show()"
   ]
  },
  {
   "cell_type": "code",
   "execution_count": null,
   "metadata": {},
   "outputs": [],
   "source": [
    "# obtain variance of components by percentage\n",
    "variances = (np.diag(np.cov(Y_i_q_r[0].T))).round(2)\n",
    "d = variances/sum(variances)*100\n",
    "table_var = {_:d[_] for _ in range(len(d))}\n",
    "dim_percent = list(zip(table_var.keys(), table_var.values()))\n",
    "print(tabulate(dim_percent, headers=['Factor','Var (%)']))"
   ]
  },
  {
   "cell_type": "code",
   "execution_count": null,
   "metadata": {},
   "outputs": [],
   "source": [
    "# obtain variance of components by percentage\n",
    "variances = (np.diag(np.cov(Y_i_q_r[1].T))*100).round(2)\n",
    "d = variances/sum(variances)*100\n",
    "table_var = {_:d[_] for _ in range(len(d))}\n",
    "dim_percent = list(zip(table_var.keys(), table_var.values()))\n",
    "print(tabulate(dim_percent, headers=['Factor','Var (%)']))"
   ]
  },
  {
   "cell_type": "code",
   "execution_count": null,
   "metadata": {},
   "outputs": [],
   "source": [
    "C_k_r"
   ]
  },
  {
   "cell_type": "code",
   "execution_count": null,
   "metadata": {},
   "outputs": [],
   "source": [
    "# sort column index of factor matrix by variance distribution in descending order.\n",
    "dorder = dict(sorted(table_var.items(), key=lambda item: item[1], reverse=True))\n",
    "dorder"
   ]
  },
  {
   "cell_type": "code",
   "execution_count": null,
   "metadata": {},
   "outputs": [],
   "source": [
    "Y_i_qr_ordered = Y_i_q_r[0][:,list(dorder.keys())]\n",
    "Y_i_qr_ordered"
   ]
  },
  {
   "cell_type": "code",
   "execution_count": null,
   "metadata": {},
   "outputs": [],
   "source": [
    "t3clus=TFKMeans(verbose=True, random_state=0, n_runs=20, n_max_iter=20, tol=1e-3).fit(X_i_jk=X, full_tensor_shape=(I,J,K), reduced_tensor_shape=(G,Q,R))\n",
    "print('best_init',t3clus.best_init)\n",
    "print('errors',t3clus.best_results['errors'])\n",
    "plt.plot(t3clus.best_results['errors'])\n",
    "print('rand score',adjusted_rand_score(np.where(t3clus.best_results['U_i_g'])[1],y))"
   ]
  },
  {
   "cell_type": "code",
   "execution_count": null,
   "metadata": {},
   "outputs": [],
   "source": [
    "T3Clus\n",
    "# ct = CT3Clus(verbose=True, random_state=0, n_runs=20, n_max_iter=50).fit(X_i_jk=X, full_tensor_shape=(I,J,K), reduced_tensor_shape=(G,Q,R), alpha=1)\n",
    "# print(ct.best_results['errors'])\n",
    "# plt.plot(ct.best_results['errors'])\n",
    "\n",
    "alpha=0.75\n",
    "\n",
    "# # # FKMeans\n",
    "ct = CT3Clus(verbose=True, random_state=0, n_runs=20, n_max_iter=200, tol=1e-3).fit(X_i_jk=X, full_tensor_shape=(I,J,K), reduced_tensor_shape=(G,Q,R), alpha=alpha)\n",
    "print(ct.best_results['errors'])\n",
    "plt.plot(ct.best_results['errors'])\n",
    "print('rand score',adjusted_rand_score(np.where(ct.best_results['U_i_g'])[1],y))"
   ]
  },
  {
   "cell_type": "code",
   "execution_count": null,
   "metadata": {},
   "outputs": [],
   "source": [
    "# ind_labels = np.where(t3clus.best_results['U_i_g'])\n",
    "\n",
    "l = list(zip(range(8),y))\n",
    "l.sort(key=lambda a: a[1])\n",
    "s = [i[0] for i in l]\n",
    "\n",
    "XX = X[s,:].round(2)\n",
    "Z_k_i_j = fold(XX, mode=1, shape=(K,I,J))\n",
    "Z_k_i_j.round(2)"
   ]
  },
  {
   "cell_type": "code",
   "execution_count": null,
   "metadata": {},
   "outputs": [],
   "source": [
    "Z_i_jk = t3clus.best_results['U_i_g']@t3clus.best_results['Y_g_qr']@np.kron(t3clus.best_results['C_k_r'], t3clus.best_results['B_j_q']).T\n",
    "ind_labels = np.where(t3clus.best_results['U_i_g'])\n",
    "\n",
    "l = list(zip(ind_labels[0],ind_labels[1]))\n",
    "l.sort(key=lambda a: a[1])\n",
    "s = [i[0] for i in l]\n",
    "\n",
    "Z_i_jk = Z_i_jk[s,:]"
   ]
  },
  {
   "cell_type": "code",
   "execution_count": null,
   "metadata": {},
   "outputs": [],
   "source": [
    "Z_k_i_j = fold(Z_i_jk, mode=1, shape=(K,I,J))\n",
    "Z_k_i_j.round(2)"
   ]
  },
  {
   "cell_type": "code",
   "execution_count": null,
   "metadata": {},
   "outputs": [],
   "source": [
    "Z_i_j = Z_k_i_j[1]\n",
    "np.corrcoef(Z_i_j.T@Z_i_j).round(2)"
   ]
  },
  {
   "cell_type": "code",
   "execution_count": null,
   "metadata": {},
   "outputs": [],
   "source": [
    "B_j_q = t3clus.best_results['B_j_q']\n",
    "B_j_q"
   ]
  },
  {
   "cell_type": "code",
   "execution_count": null,
   "metadata": {},
   "outputs": [],
   "source": [
    "(B_j_q**2).sum(axis=1)"
   ]
  }
 ],
 "metadata": {
  "interpreter": {
   "hash": "d006a4e8270f7cb3dd13063a6e39ae95bb6952aca649802565f92bfae9aa0161"
  },
  "kernelspec": {
   "display_name": "Python 3.8.12 ('py38')",
   "language": "python",
   "name": "python3"
  },
  "language_info": {
   "codemirror_mode": {
    "name": "ipython",
    "version": 3
   },
   "file_extension": ".py",
   "mimetype": "text/x-python",
   "name": "python",
   "nbconvert_exporter": "python",
   "pygments_lexer": "ipython3",
   "version": "3.8.12"
  },
  "orig_nbformat": 4
 },
 "nbformat": 4,
 "nbformat_minor": 2
}
